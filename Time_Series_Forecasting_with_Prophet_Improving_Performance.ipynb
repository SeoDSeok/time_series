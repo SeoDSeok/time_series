{
  "cells": [
    {
      "cell_type": "markdown",
      "metadata": {
        "id": "WYlcdp8k3lTv"
      },
      "source": [
        "\n",
        "# Improving Forecasting Performance\n",
        "# Step1- data improvement "
      ]
    },
    {
      "cell_type": "code",
      "execution_count": null,
      "metadata": {
        "id": "1ssWQf4hhbCU"
      },
      "outputs": [],
      "source": [
        "# import necessary libraries\n",
        "import numpy as np # linear algebra\n",
        "from prophet import Prophet\n",
        "from prophet.plot import plot_plotly, plot_components_plotly\n",
        "from prophet.diagnostics import cross_validation\n",
        "from prophet.diagnostics import performance_metrics\n",
        "import warnings\n",
        "warnings.filterwarnings('ignore')  # Hide warnings\n",
        "warnings.simplefilter(action = \"ignore\", category = RuntimeWarning)\n",
        "import datetime as dt\n",
        "import pandas as pd\n",
        "pd.core.common.is_list_like = pd.api.types.is_list_like\n",
        "import pandas_datareader.data as web\n",
        "import numpy as np\n",
        "import matplotlib.pyplot as plt\n",
        "import seaborn as sns\n",
        "import matplotlib.dates as mdates\n",
        "import pandas as pd\n",
        "from plotnine import *\n",
        "import io\n",
        "# we'll use the statistics package to conduct some predictive analytics\n",
        "import statistics as st\n",
        "%matplotlib inline\n",
        "import matplotlib.dates as mdates\n",
        "from pandas import DataFrame\n",
        "from pandas import to_datetime\n",
        "from statsmodels.tsa.stattools import kpss\n",
        "from statsmodels.tsa.stattools import adfuller\n",
        "from  sklearn.metrics import mean_absolute_error"
      ]
    },
    {
      "cell_type": "code",
      "execution_count": null,
      "metadata": {
        "colab": {
          "base_uri": "https://localhost:8080/",
          "height": 423
        },
        "id": "v5998uUTGa98",
        "outputId": "0fbd1044-f542-42f3-aafb-5048d73539ea"
      },
      "outputs": [
        {
          "data": {
            "text/html": [
              "\n",
              "  <div id=\"df-3c3a2071-e965-414f-bac3-0991c530102d\">\n",
              "    <div class=\"colab-df-container\">\n",
              "      <div>\n",
              "<style scoped>\n",
              "    .dataframe tbody tr th:only-of-type {\n",
              "        vertical-align: middle;\n",
              "    }\n",
              "\n",
              "    .dataframe tbody tr th {\n",
              "        vertical-align: top;\n",
              "    }\n",
              "\n",
              "    .dataframe thead th {\n",
              "        text-align: right;\n",
              "    }\n",
              "</style>\n",
              "<table border=\"1\" class=\"dataframe\">\n",
              "  <thead>\n",
              "    <tr style=\"text-align: right;\">\n",
              "      <th></th>\n",
              "      <th>ds</th>\n",
              "      <th>y</th>\n",
              "    </tr>\n",
              "  </thead>\n",
              "  <tbody>\n",
              "    <tr>\n",
              "      <th>0</th>\n",
              "      <td>2007-12-10</td>\n",
              "      <td>14629</td>\n",
              "    </tr>\n",
              "    <tr>\n",
              "      <th>1</th>\n",
              "      <td>2007-12-11</td>\n",
              "      <td>5012</td>\n",
              "    </tr>\n",
              "    <tr>\n",
              "      <th>2</th>\n",
              "      <td>2007-12-12</td>\n",
              "      <td>3582</td>\n",
              "    </tr>\n",
              "    <tr>\n",
              "      <th>3</th>\n",
              "      <td>2007-12-13</td>\n",
              "      <td>3205</td>\n",
              "    </tr>\n",
              "    <tr>\n",
              "      <th>4</th>\n",
              "      <td>2007-12-14</td>\n",
              "      <td>2680</td>\n",
              "    </tr>\n",
              "    <tr>\n",
              "      <th>...</th>\n",
              "      <td>...</td>\n",
              "      <td>...</td>\n",
              "    </tr>\n",
              "    <tr>\n",
              "      <th>2900</th>\n",
              "      <td>2016-01-16</td>\n",
              "      <td>2483</td>\n",
              "    </tr>\n",
              "    <tr>\n",
              "      <th>2901</th>\n",
              "      <td>2016-01-17</td>\n",
              "      <td>10656</td>\n",
              "    </tr>\n",
              "    <tr>\n",
              "      <th>2902</th>\n",
              "      <td>2016-01-18</td>\n",
              "      <td>30754</td>\n",
              "    </tr>\n",
              "    <tr>\n",
              "      <th>2903</th>\n",
              "      <td>2016-01-19</td>\n",
              "      <td>9190</td>\n",
              "    </tr>\n",
              "    <tr>\n",
              "      <th>2904</th>\n",
              "      <td>2016-01-20</td>\n",
              "      <td>7269</td>\n",
              "    </tr>\n",
              "  </tbody>\n",
              "</table>\n",
              "<p>2905 rows × 2 columns</p>\n",
              "</div>\n",
              "      <button class=\"colab-df-convert\" onclick=\"convertToInteractive('df-3c3a2071-e965-414f-bac3-0991c530102d')\"\n",
              "              title=\"Convert this dataframe to an interactive table.\"\n",
              "              style=\"display:none;\">\n",
              "        \n",
              "  <svg xmlns=\"http://www.w3.org/2000/svg\" height=\"24px\"viewBox=\"0 0 24 24\"\n",
              "       width=\"24px\">\n",
              "    <path d=\"M0 0h24v24H0V0z\" fill=\"none\"/>\n",
              "    <path d=\"M18.56 5.44l.94 2.06.94-2.06 2.06-.94-2.06-.94-.94-2.06-.94 2.06-2.06.94zm-11 1L8.5 8.5l.94-2.06 2.06-.94-2.06-.94L8.5 2.5l-.94 2.06-2.06.94zm10 10l.94 2.06.94-2.06 2.06-.94-2.06-.94-.94-2.06-.94 2.06-2.06.94z\"/><path d=\"M17.41 7.96l-1.37-1.37c-.4-.4-.92-.59-1.43-.59-.52 0-1.04.2-1.43.59L10.3 9.45l-7.72 7.72c-.78.78-.78 2.05 0 2.83L4 21.41c.39.39.9.59 1.41.59.51 0 1.02-.2 1.41-.59l7.78-7.78 2.81-2.81c.8-.78.8-2.07 0-2.86zM5.41 20L4 18.59l7.72-7.72 1.47 1.35L5.41 20z\"/>\n",
              "  </svg>\n",
              "      </button>\n",
              "      \n",
              "  <style>\n",
              "    .colab-df-container {\n",
              "      display:flex;\n",
              "      flex-wrap:wrap;\n",
              "      gap: 12px;\n",
              "    }\n",
              "\n",
              "    .colab-df-convert {\n",
              "      background-color: #E8F0FE;\n",
              "      border: none;\n",
              "      border-radius: 50%;\n",
              "      cursor: pointer;\n",
              "      display: none;\n",
              "      fill: #1967D2;\n",
              "      height: 32px;\n",
              "      padding: 0 0 0 0;\n",
              "      width: 32px;\n",
              "    }\n",
              "\n",
              "    .colab-df-convert:hover {\n",
              "      background-color: #E2EBFA;\n",
              "      box-shadow: 0px 1px 2px rgba(60, 64, 67, 0.3), 0px 1px 3px 1px rgba(60, 64, 67, 0.15);\n",
              "      fill: #174EA6;\n",
              "    }\n",
              "\n",
              "    [theme=dark] .colab-df-convert {\n",
              "      background-color: #3B4455;\n",
              "      fill: #D2E3FC;\n",
              "    }\n",
              "\n",
              "    [theme=dark] .colab-df-convert:hover {\n",
              "      background-color: #434B5C;\n",
              "      box-shadow: 0px 1px 3px 1px rgba(0, 0, 0, 0.15);\n",
              "      filter: drop-shadow(0px 1px 2px rgba(0, 0, 0, 0.3));\n",
              "      fill: #FFFFFF;\n",
              "    }\n",
              "  </style>\n",
              "\n",
              "      <script>\n",
              "        const buttonEl =\n",
              "          document.querySelector('#df-3c3a2071-e965-414f-bac3-0991c530102d button.colab-df-convert');\n",
              "        buttonEl.style.display =\n",
              "          google.colab.kernel.accessAllowed ? 'block' : 'none';\n",
              "\n",
              "        async function convertToInteractive(key) {\n",
              "          const element = document.querySelector('#df-3c3a2071-e965-414f-bac3-0991c530102d');\n",
              "          const dataTable =\n",
              "            await google.colab.kernel.invokeFunction('convertToInteractive',\n",
              "                                                     [key], {});\n",
              "          if (!dataTable) return;\n",
              "\n",
              "          const docLinkHtml = 'Like what you see? Visit the ' +\n",
              "            '<a target=\"_blank\" href=https://colab.research.google.com/notebooks/data_table.ipynb>data table notebook</a>'\n",
              "            + ' to learn more about interactive tables.';\n",
              "          element.innerHTML = '';\n",
              "          dataTable['output_type'] = 'display_data';\n",
              "          await google.colab.output.renderOutput(dataTable, element);\n",
              "          const docLink = document.createElement('div');\n",
              "          docLink.innerHTML = docLinkHtml;\n",
              "          element.appendChild(docLink);\n",
              "        }\n",
              "      </script>\n",
              "    </div>\n",
              "  </div>\n",
              "  "
            ],
            "text/plain": [
              "              ds      y\n",
              "0     2007-12-10  14629\n",
              "1     2007-12-11   5012\n",
              "2     2007-12-12   3582\n",
              "3     2007-12-13   3205\n",
              "4     2007-12-14   2680\n",
              "...          ...    ...\n",
              "2900  2016-01-16   2483\n",
              "2901  2016-01-17  10656\n",
              "2902  2016-01-18  30754\n",
              "2903  2016-01-19   9190\n",
              "2904  2016-01-20   7269\n",
              "\n",
              "[2905 rows x 2 columns]"
            ]
          },
          "execution_count": 327,
          "metadata": {},
          "output_type": "execute_result"
        }
      ],
      "source": [
        "# Python\n",
        "df = pd.read_csv('/content/drive/MyDrive/prophet_data/Used_Data/wp_peyton_manning.csv')\n",
        "df"
      ]
    },
    {
      "cell_type": "code",
      "execution_count": null,
      "metadata": {
        "id": "jTxILRW5IeNT"
      },
      "outputs": [],
      "source": [
        "## function to Plot the data\n",
        "\n",
        "def _fig_plot(df, X, Y):\n",
        "  ''' Function plots the data. requires to provide dataframe in the\n",
        "  format of date as ds, observation as y, Preset other variables e.g., axis name\n",
        "  '''\n",
        "  df.plot(x = X, y = Y, figsize=Figsize, label = Label)\n",
        "  plt.xlabel(xAxisLabel, fontsize = 16) # matplotlib.pyplot\n",
        "  plt.ylabel(yAxisLabel, fontsize = 16)\n",
        "  plt.legend()\n",
        "  plt.title(Title, fontsize = 20)\n",
        "  ax = plt.gca().get_xaxis()"
      ]
    },
    {
      "cell_type": "code",
      "execution_count": null,
      "metadata": {
        "colab": {
          "base_uri": "https://localhost:8080/",
          "height": 414
        },
        "id": "ZaKGIEXrGlFu",
        "outputId": "84ab82cb-8a40-4304-b7ed-f76c94e38294"
      },
      "outputs": [
        {
          "data": {
            "image/png": "[encoded data removed]",
            "text/plain": [
              "<Figure size 864x432 with 1 Axes>"
            ]
          },
          "metadata": {
            "needs_background": "light"
          },
          "output_type": "display_data"
        }
      ],
      "source": [
        "# provide variable names and other required inputs to plot using the function\n",
        "X = 'ds'\n",
        "Y = 'y'\n",
        "Label = \"total visit\"\n",
        "Figsize = (12,6)\n",
        "Title = \"Daily Total Page Visit\"\n",
        "xAxisLabel = 'Time (Day)'\n",
        "yAxisLabel = 'Total Visit'\n",
        "_fig_plot(df, X, Y)"
      ]
    },
    {
      "cell_type": "code",
      "execution_count": null,
      "metadata": {
        "colab": {
          "base_uri": "https://localhost:8080/",
          "height": 269
        },
        "id": "qUPtOrQ8KGVa",
        "outputId": "b167f092-208f-431d-e6b3-88e24e22c8ee"
      },
      "outputs": [
        {
          "data": {
            "image/png": "[encoded data removed]",
            "text/plain": [
              "<Figure size 432x288 with 1 Axes>"
            ]
          },
          "metadata": {
            "needs_background": "light"
          },
          "output_type": "display_data"
        }
      ],
      "source": [
        "plt.hist(df.y)\n",
        "plt.show()"
      ]
    },
    {
      "cell_type": "code",
      "execution_count": null,
      "metadata": {
        "colab": {
          "base_uri": "https://localhost:8080/",
          "height": 265
        },
        "id": "OV3qFoglJxsE",
        "outputId": "84c618e5-b608-4417-93f8-cf1dc0108100"
      },
      "outputs": [
        {
          "data": {
            "image/png": "[encoded data removed]",
            "text/plain": [
              "<Figure size 432x288 with 1 Axes>"
            ]
          },
          "metadata": {
            "needs_background": "light"
          },
          "output_type": "display_data"
        }
      ],
      "source": [
        "plt.boxplot(df.y)\n",
        "plt.show()"
      ]
    },
    {
      "cell_type": "markdown",
      "metadata": {
        "id": "Hjw2dvSC7or9"
      },
      "source": [
        "### skewness reduction\n"
      ]
    },
    {
      "cell_type": "code",
      "execution_count": null,
      "metadata": {
        "id": "CD6y4DqhMUHw"
      },
      "outputs": [],
      "source": [
        "df_raw = df.copy()\n",
        "df['y'] = np.log(df['y'])"
      ]
    },
    {
      "cell_type": "code",
      "execution_count": null,
      "metadata": {
        "colab": {
          "base_uri": "https://localhost:8080/",
          "height": 265
        },
        "id": "o3t5jVeehwYs",
        "outputId": "8b1676e5-a7ac-4deb-ef19-9db170189040"
      },
      "outputs": [
        {
          "data": {
            "image/png": "[encoded data removed]",
            "text/plain": [
              "<Figure size 432x288 with 1 Axes>"
            ]
          },
          "metadata": {
            "needs_background": "light"
          },
          "output_type": "display_data"
        }
      ],
      "source": [
        "plt.boxplot(df.y.values)\n",
        "plt.show()"
      ]
    },
    {
      "cell_type": "code",
      "execution_count": null,
      "metadata": {
        "colab": {
          "base_uri": "https://localhost:8080/",
          "height": 265
        },
        "id": "aEHTT6pPMgVc",
        "outputId": "2a66dfc1-97fa-426b-e4e7-e3a237f5f242"
      },
      "outputs": [
        {
          "data": {
            "image/png": "[encoded data removed]",
            "text/plain": [
              "<Figure size 432x288 with 1 Axes>"
            ]
          },
          "metadata": {
            "needs_background": "light"
          },
          "output_type": "display_data"
        }
      ],
      "source": [
        "plt.hist(df.y)\n",
        "plt.show()"
      ]
    },
    {
      "cell_type": "code",
      "execution_count": null,
      "metadata": {
        "id": "2FBJA97ZdKQt"
      },
      "outputs": [],
      "source": [
        "df_log = df.copy() # keep a copy of log converted df"
      ]
    },
    {
      "cell_type": "markdown",
      "metadata": {
        "id": "2vyWYqmm7xjs"
      },
      "source": [
        "### outliers detection"
      ]
    },
    {
      "cell_type": "code",
      "execution_count": null,
      "metadata": {
        "colab": {
          "base_uri": "https://localhost:8080/"
        },
        "id": "FDZFHUYZLbFl",
        "outputId": "1320f883-8873-42e0-f5ea-7f4a1494c432"
      },
      "outputs": [
        {
          "name": "stdout",
          "output_type": "stream",
          "text": [
            "5.9167474153552355 10.17822033571106\n"
          ]
        }
      ],
      "source": [
        "# outlier detection using inter quartile range\n",
        "Q1=df.y.quantile(0.25)\n",
        "Q3=df.y.quantile(0.75)\n",
        "IQR = Q3-Q1\n",
        "LT=Q1-1.5*IQR\n",
        "HT= Q3+1.5*IQR\n",
        "print(LT, HT)\n",
        "df['outlier']=np.where(((df['y']<LT)|(df['y']>HT)),'yes','no')"
      ]
    },
    {
      "cell_type": "markdown",
      "metadata": {
        "id": "NwPkXNf41fH_"
      },
      "source": [
        "alternative statistical approach:\n",
        "using mean/median absolute deviation"
      ]
    },
    {
      "cell_type": "code",
      "execution_count": null,
      "metadata": {
        "colab": {
          "base_uri": "https://localhost:8080/"
        },
        "id": "QCHUw8W6Mh4t",
        "outputId": "2bf90cc9-cbbd-44f1-e685-8fdb27fd2edd"
      },
      "outputs": [
        {
          "data": {
            "text/plain": [
              "no     2827\n",
              "yes      78\n",
              "Name: outlier, dtype: int64"
            ]
          },
          "execution_count": 337,
          "metadata": {},
          "output_type": "execute_result"
        }
      ],
      "source": [
        "df['outlier'].value_counts()"
      ]
    },
    {
      "cell_type": "code",
      "execution_count": null,
      "metadata": {
        "colab": {
          "base_uri": "https://localhost:8080/",
          "height": 265
        },
        "id": "RFC4ABuWNjqt",
        "outputId": "3edb04a7-6869-49d0-c704-fdc7e7a52bde"
      },
      "outputs": [
        {
          "data": {
            "image/png": "[encoded data removed]",
            "text/plain": [
              "<Figure size 432x288 with 1 Axes>"
            ]
          },
          "metadata": {
            "needs_background": "light"
          },
          "output_type": "display_data"
        }
      ],
      "source": [
        "plt.boxplot(df[df.outlier=='no'].y)\n",
        "plt.show()"
      ]
    },
    {
      "cell_type": "code",
      "execution_count": null,
      "metadata": {
        "colab": {
          "base_uri": "https://localhost:8080/",
          "height": 265
        },
        "id": "OU-k3_L2OWXC",
        "outputId": "7ebcbd74-9723-47b2-c307-c479afdc3001"
      },
      "outputs": [
        {
          "data": {
            "image/png": "[encoded data removed]",
            "text/plain": [
              "<Figure size 432x288 with 1 Axes>"
            ]
          },
          "metadata": {
            "needs_background": "light"
          },
          "output_type": "display_data"
        }
      ],
      "source": [
        "plt.hist(df[df.outlier=='no'].y)\n",
        "plt.show()"
      ]
    },
    {
      "cell_type": "code",
      "execution_count": null,
      "metadata": {
        "colab": {
          "base_uri": "https://localhost:8080/",
          "height": 414
        },
        "id": "_db-Q--sxVPv",
        "outputId": "b2f475c4-db66-4f58-d0b2-7471c4d15f16"
      },
      "outputs": [
        {
          "data": {
            "image/png": "[encoded data removed]",
            "text/plain": [
              "<Figure size 864x432 with 1 Axes>"
            ]
          },
          "metadata": {
            "needs_background": "light"
          },
          "output_type": "display_data"
        }
      ],
      "source": [
        "# advanced and better approach for time series outlier removal\n",
        "df_stock = pd.read_csv('/content/drive/MyDrive/prophet_data/Used_Data/TTT_outlier.csv')\n",
        "Title = \"Daily Stock Price\"\n",
        "xAxisLabel = 'Time (Day)'\n",
        "yAxisLabel = 'Price'\n",
        "_fig_plot(df_stock, 'Date', 'Adj Close')"
      ]
    },
    {
      "cell_type": "code",
      "execution_count": null,
      "metadata": {
        "colab": {
          "base_uri": "https://localhost:8080/"
        },
        "id": "HZ_qabW4iAxP",
        "outputId": "be083e07-6342-4b1e-c448-0b516d609ab6"
      },
      "outputs": [
        {
          "data": {
            "text/plain": [
              "(1259, 7)"
            ]
          },
          "execution_count": 341,
          "metadata": {},
          "output_type": "execute_result"
        }
      ],
      "source": [
        "df_stock.shape"
      ]
    },
    {
      "cell_type": "code",
      "execution_count": null,
      "metadata": {
        "colab": {
          "base_uri": "https://localhost:8080/",
          "height": 423
        },
        "id": "vg78L1J7pQNj",
        "outputId": "46e67c3f-1ca2-43d9-f977-4564d8726a39"
      },
      "outputs": [
        {
          "data": {
            "text/html": [
              "\n",
              "  <div id=\"df-b344d86e-c781-422f-84c4-41cabc7ee2a1\">\n",
              "    <div class=\"colab-df-container\">\n",
              "      <div>\n",
              "<style scoped>\n",
              "    .dataframe tbody tr th:only-of-type {\n",
              "        vertical-align: middle;\n",
              "    }\n",
              "\n",
              "    .dataframe tbody tr th {\n",
              "        vertical-align: top;\n",
              "    }\n",
              "\n",
              "    .dataframe thead th {\n",
              "        text-align: right;\n",
              "    }\n",
              "</style>\n",
              "<table border=\"1\" class=\"dataframe\">\n",
              "  <thead>\n",
              "    <tr style=\"text-align: right;\">\n",
              "      <th></th>\n",
              "      <th>Date</th>\n",
              "      <th>Open</th>\n",
              "      <th>High</th>\n",
              "      <th>Low</th>\n",
              "      <th>Close</th>\n",
              "      <th>Adj Close</th>\n",
              "      <th>Volume</th>\n",
              "      <th>SMA</th>\n",
              "      <th>diff</th>\n",
              "    </tr>\n",
              "  </thead>\n",
              "  <tbody>\n",
              "    <tr>\n",
              "      <th>0</th>\n",
              "      <td>2017-04-19</td>\n",
              "      <td>53.790001</td>\n",
              "      <td>54.380001</td>\n",
              "      <td>53.709999</td>\n",
              "      <td>53.889999</td>\n",
              "      <td>47.106853</td>\n",
              "      <td>5419600</td>\n",
              "      <td>NaN</td>\n",
              "      <td>NaN</td>\n",
              "    </tr>\n",
              "    <tr>\n",
              "      <th>1</th>\n",
              "      <td>2017-04-20</td>\n",
              "      <td>54.209999</td>\n",
              "      <td>54.880001</td>\n",
              "      <td>54.110001</td>\n",
              "      <td>54.639999</td>\n",
              "      <td>47.762440</td>\n",
              "      <td>5843200</td>\n",
              "      <td>NaN</td>\n",
              "      <td>NaN</td>\n",
              "    </tr>\n",
              "    <tr>\n",
              "      <th>2</th>\n",
              "      <td>2017-04-21</td>\n",
              "      <td>54.540001</td>\n",
              "      <td>55.130001</td>\n",
              "      <td>54.540001</td>\n",
              "      <td>54.779999</td>\n",
              "      <td>47.884815</td>\n",
              "      <td>5948300</td>\n",
              "      <td>NaN</td>\n",
              "      <td>NaN</td>\n",
              "    </tr>\n",
              "    <tr>\n",
              "      <th>3</th>\n",
              "      <td>2017-04-24</td>\n",
              "      <td>55.160000</td>\n",
              "      <td>55.290001</td>\n",
              "      <td>54.419998</td>\n",
              "      <td>54.820000</td>\n",
              "      <td>47.919788</td>\n",
              "      <td>5717900</td>\n",
              "      <td>NaN</td>\n",
              "      <td>NaN</td>\n",
              "    </tr>\n",
              "    <tr>\n",
              "      <th>4</th>\n",
              "      <td>2017-04-25</td>\n",
              "      <td>54.900002</td>\n",
              "      <td>55.160000</td>\n",
              "      <td>54.799999</td>\n",
              "      <td>55.150002</td>\n",
              "      <td>48.208248</td>\n",
              "      <td>4096700</td>\n",
              "      <td>47.776429</td>\n",
              "      <td>0.431819</td>\n",
              "    </tr>\n",
              "    <tr>\n",
              "      <th>...</th>\n",
              "      <td>...</td>\n",
              "      <td>...</td>\n",
              "      <td>...</td>\n",
              "      <td>...</td>\n",
              "      <td>...</td>\n",
              "      <td>...</td>\n",
              "      <td>...</td>\n",
              "      <td>...</td>\n",
              "      <td>...</td>\n",
              "    </tr>\n",
              "    <tr>\n",
              "      <th>1254</th>\n",
              "      <td>2022-04-11</td>\n",
              "      <td>233.259995</td>\n",
              "      <td>235.960007</td>\n",
              "      <td>228.910004</td>\n",
              "      <td>229.309998</td>\n",
              "      <td>229.309998</td>\n",
              "      <td>3172200</td>\n",
              "      <td>224.313998</td>\n",
              "      <td>4.996000</td>\n",
              "    </tr>\n",
              "    <tr>\n",
              "      <th>1255</th>\n",
              "      <td>2022-04-12</td>\n",
              "      <td>232.300003</td>\n",
              "      <td>235.410004</td>\n",
              "      <td>230.389999</td>\n",
              "      <td>231.339996</td>\n",
              "      <td>231.339996</td>\n",
              "      <td>3366600</td>\n",
              "      <td>227.623999</td>\n",
              "      <td>3.715997</td>\n",
              "    </tr>\n",
              "    <tr>\n",
              "      <th>1256</th>\n",
              "      <td>2022-04-13</td>\n",
              "      <td>230.300003</td>\n",
              "      <td>235.190002</td>\n",
              "      <td>229.509995</td>\n",
              "      <td>233.820007</td>\n",
              "      <td>233.820007</td>\n",
              "      <td>2451300</td>\n",
              "      <td>231.200000</td>\n",
              "      <td>2.620007</td>\n",
              "    </tr>\n",
              "    <tr>\n",
              "      <th>1257</th>\n",
              "      <td>2022-04-14</td>\n",
              "      <td>233.910004</td>\n",
              "      <td>238.190002</td>\n",
              "      <td>233.110001</td>\n",
              "      <td>237.199997</td>\n",
              "      <td>237.199997</td>\n",
              "      <td>3909300</td>\n",
              "      <td>233.001999</td>\n",
              "      <td>4.197998</td>\n",
              "    </tr>\n",
              "    <tr>\n",
              "      <th>1258</th>\n",
              "      <td>2022-04-18</td>\n",
              "      <td>235.539993</td>\n",
              "      <td>241.259995</td>\n",
              "      <td>235.080002</td>\n",
              "      <td>239.389999</td>\n",
              "      <td>239.389999</td>\n",
              "      <td>3340900</td>\n",
              "      <td>234.211999</td>\n",
              "      <td>5.178000</td>\n",
              "    </tr>\n",
              "  </tbody>\n",
              "</table>\n",
              "<p>1259 rows × 9 columns</p>\n",
              "</div>\n",
              "      <button class=\"colab-df-convert\" onclick=\"convertToInteractive('df-b344d86e-c781-422f-84c4-41cabc7ee2a1')\"\n",
              "              title=\"Convert this dataframe to an interactive table.\"\n",
              "              style=\"display:none;\">\n",
              "        \n",
              "  <svg xmlns=\"http://www.w3.org/2000/svg\" height=\"24px\"viewBox=\"0 0 24 24\"\n",
              "       width=\"24px\">\n",
              "    <path d=\"M0 0h24v24H0V0z\" fill=\"none\"/>\n",
              "    <path d=\"M18.56 5.44l.94 2.06.94-2.06 2.06-.94-2.06-.94-.94-2.06-.94 2.06-2.06.94zm-11 1L8.5 8.5l.94-2.06 2.06-.94-2.06-.94L8.5 2.5l-.94 2.06-2.06.94zm10 10l.94 2.06.94-2.06 2.06-.94-2.06-.94-.94-2.06-.94 2.06-2.06.94z\"/><path d=\"M17.41 7.96l-1.37-1.37c-.4-.4-.92-.59-1.43-.59-.52 0-1.04.2-1.43.59L10.3 9.45l-7.72 7.72c-.78.78-.78 2.05 0 2.83L4 21.41c.39.39.9.59 1.41.59.51 0 1.02-.2 1.41-.59l7.78-7.78 2.81-2.81c.8-.78.8-2.07 0-2.86zM5.41 20L4 18.59l7.72-7.72 1.47 1.35L5.41 20z\"/>\n",
              "  </svg>\n",
              "      </button>\n",
              "      \n",
              "  <style>\n",
              "    .colab-df-container {\n",
              "      display:flex;\n",
              "      flex-wrap:wrap;\n",
              "      gap: 12px;\n",
              "    }\n",
              "\n",
              "    .colab-df-convert {\n",
              "      background-color: #E8F0FE;\n",
              "      border: none;\n",
              "      border-radius: 50%;\n",
              "      cursor: pointer;\n",
              "      display: none;\n",
              "      fill: #1967D2;\n",
              "      height: 32px;\n",
              "      padding: 0 0 0 0;\n",
              "      width: 32px;\n",
              "    }\n",
              "\n",
              "    .colab-df-convert:hover {\n",
              "      background-color: #E2EBFA;\n",
              "      box-shadow: 0px 1px 2px rgba(60, 64, 67, 0.3), 0px 1px 3px 1px rgba(60, 64, 67, 0.15);\n",
              "      fill: #174EA6;\n",
              "    }\n",
              "\n",
              "    [theme=dark] .colab-df-convert {\n",
              "      background-color: #3B4455;\n",
              "      fill: #D2E3FC;\n",
              "    }\n",
              "\n",
              "    [theme=dark] .colab-df-convert:hover {\n",
              "      background-color: #434B5C;\n",
              "      box-shadow: 0px 1px 3px 1px rgba(0, 0, 0, 0.15);\n",
              "      filter: drop-shadow(0px 1px 2px rgba(0, 0, 0, 0.3));\n",
              "      fill: #FFFFFF;\n",
              "    }\n",
              "  </style>\n",
              "\n",
              "      <script>\n",
              "        const buttonEl =\n",
              "          document.querySelector('#df-b344d86e-c781-422f-84c4-41cabc7ee2a1 button.colab-df-convert');\n",
              "        buttonEl.style.display =\n",
              "          google.colab.kernel.accessAllowed ? 'block' : 'none';\n",
              "\n",
              "        async function convertToInteractive(key) {\n",
              "          const element = document.querySelector('#df-b344d86e-c781-422f-84c4-41cabc7ee2a1');\n",
              "          const dataTable =\n",
              "            await google.colab.kernel.invokeFunction('convertToInteractive',\n",
              "                                                     [key], {});\n",
              "          if (!dataTable) return;\n",
              "\n",
              "          const docLinkHtml = 'Like what you see? Visit the ' +\n",
              "            '<a target=\"_blank\" href=https://colab.research.google.com/notebooks/data_table.ipynb>data table notebook</a>'\n",
              "            + ' to learn more about interactive tables.';\n",
              "          element.innerHTML = '';\n",
              "          dataTable['output_type'] = 'display_data';\n",
              "          await google.colab.output.renderOutput(dataTable, element);\n",
              "          const docLink = document.createElement('div');\n",
              "          docLink.innerHTML = docLinkHtml;\n",
              "          element.appendChild(docLink);\n",
              "        }\n",
              "      </script>\n",
              "    </div>\n",
              "  </div>\n",
              "  "
            ],
            "text/plain": [
              "            Date        Open        High         Low       Close   Adj Close  \\\n",
              "0     2017-04-19   53.790001   54.380001   53.709999   53.889999   47.106853   \n",
              "1     2017-04-20   54.209999   54.880001   54.110001   54.639999   47.762440   \n",
              "2     2017-04-21   54.540001   55.130001   54.540001   54.779999   47.884815   \n",
              "3     2017-04-24   55.160000   55.290001   54.419998   54.820000   47.919788   \n",
              "4     2017-04-25   54.900002   55.160000   54.799999   55.150002   48.208248   \n",
              "...          ...         ...         ...         ...         ...         ...   \n",
              "1254  2022-04-11  233.259995  235.960007  228.910004  229.309998  229.309998   \n",
              "1255  2022-04-12  232.300003  235.410004  230.389999  231.339996  231.339996   \n",
              "1256  2022-04-13  230.300003  235.190002  229.509995  233.820007  233.820007   \n",
              "1257  2022-04-14  233.910004  238.190002  233.110001  237.199997  237.199997   \n",
              "1258  2022-04-18  235.539993  241.259995  235.080002  239.389999  239.389999   \n",
              "\n",
              "       Volume         SMA      diff  \n",
              "0     5419600         NaN       NaN  \n",
              "1     5843200         NaN       NaN  \n",
              "2     5948300         NaN       NaN  \n",
              "3     5717900         NaN       NaN  \n",
              "4     4096700   47.776429  0.431819  \n",
              "...       ...         ...       ...  \n",
              "1254  3172200  224.313998  4.996000  \n",
              "1255  3366600  227.623999  3.715997  \n",
              "1256  2451300  231.200000  2.620007  \n",
              "1257  3909300  233.001999  4.197998  \n",
              "1258  3340900  234.211999  5.178000  \n",
              "\n",
              "[1259 rows x 9 columns]"
            ]
          },
          "execution_count": 342,
          "metadata": {},
          "output_type": "execute_result"
        }
      ],
      "source": [
        "# moving average based statistics\n",
        "df_stock['SMA'] = df_stock['Adj Close'].rolling(window=5).mean()\n",
        "df_stock['diff'] = df_stock['Adj Close'] - df_stock['SMA']\n",
        "df_stock"
      ]
    },
    {
      "cell_type": "code",
      "execution_count": null,
      "metadata": {
        "colab": {
          "base_uri": "https://localhost:8080/",
          "height": 265
        },
        "id": "kdf50EXhvqja",
        "outputId": "a8d231db-03a3-4f16-b529-e0701728328b"
      },
      "outputs": [
        {
          "data": {
            "image/png": "[encoded data removed]",
            "text/plain": [
              "<Figure size 432x288 with 1 Axes>"
            ]
          },
          "metadata": {
            "needs_background": "light"
          },
          "output_type": "display_data"
        }
      ],
      "source": [
        "plt.hist(df_stock['diff'])\n",
        "plt.show()"
      ]
    },
    {
      "cell_type": "code",
      "execution_count": null,
      "metadata": {
        "colab": {
          "base_uri": "https://localhost:8080/"
        },
        "id": "gp1xvMFIyM6X",
        "outputId": "d037f7cd-0102-4040-b126-5fb5e7b3fb86"
      },
      "outputs": [
        {
          "data": {
            "text/plain": [
              "count    1255.000000\n",
              "mean        0.301223\n",
              "std         5.084669\n",
              "min       -49.642884\n",
              "25%        -0.769394\n",
              "50%         0.244533\n",
              "75%         1.255495\n",
              "max        95.313519\n",
              "Name: diff, dtype: float64"
            ]
          },
          "execution_count": 344,
          "metadata": {},
          "output_type": "execute_result"
        }
      ],
      "source": [
        "df_stock['diff'].describe()"
      ]
    },
    {
      "cell_type": "code",
      "execution_count": null,
      "metadata": {
        "colab": {
          "base_uri": "https://localhost:8080/"
        },
        "id": "k-MWZtgxg75l",
        "outputId": "25f27c95-2be5-415e-b7d3-3a1f5c8080c4"
      },
      "outputs": [
        {
          "data": {
            "text/plain": [
              " 1    1246\n",
              "-1      13\n",
              "Name: outlier_sk, dtype: int64"
            ]
          },
          "execution_count": 345,
          "metadata": {},
          "output_type": "execute_result"
        }
      ],
      "source": [
        "# ML based approach\n",
        "from sklearn.neighbors import LocalOutlierFactor\n",
        "clf = LocalOutlierFactor(n_neighbors=30, contamination=0.01)\n",
        "df_stock['outlier_sk'] = clf.fit_predict(df_stock['Open'].values.reshape(-1,1),df_stock['Adj Close'].values.reshape(-1,1))\n",
        "df_stock.outlier_sk.value_counts()"
      ]
    },
    {
      "cell_type": "markdown",
      "metadata": {
        "id": "scbledjI74PP"
      },
      "source": [
        "### outliers treatment"
      ]
    },
    {
      "cell_type": "code",
      "execution_count": null,
      "metadata": {
        "colab": {
          "base_uri": "https://localhost:8080/"
        },
        "id": "vEpjgekloodA",
        "outputId": "85ac1e54-42e9-4957-8abb-c8eb375e676e"
      },
      "outputs": [
        {
          "name": "stdout",
          "output_type": "stream",
          "text": [
            "7.246653081895779\n",
            "9.22684277510563\n"
          ]
        }
      ],
      "source": [
        "#Quantile-based Flooring and Capping\n",
        "print(df['y'].quantile(0.10))\n",
        "print(df['y'].quantile(0.90))"
      ]
    },
    {
      "cell_type": "code",
      "execution_count": null,
      "metadata": {
        "colab": {
          "base_uri": "https://localhost:8080/",
          "height": 423
        },
        "id": "rg1FdgEJki4o",
        "outputId": "473b74df-3454-4566-dda7-b882aa437e40"
      },
      "outputs": [
        {
          "data": {
            "text/html": [
              "\n",
              "  <div id=\"df-ac4a7051-2722-4148-889e-a68e91da0ed0\">\n",
              "    <div class=\"colab-df-container\">\n",
              "      <div>\n",
              "<style scoped>\n",
              "    .dataframe tbody tr th:only-of-type {\n",
              "        vertical-align: middle;\n",
              "    }\n",
              "\n",
              "    .dataframe tbody tr th {\n",
              "        vertical-align: top;\n",
              "    }\n",
              "\n",
              "    .dataframe thead th {\n",
              "        text-align: right;\n",
              "    }\n",
              "</style>\n",
              "<table border=\"1\" class=\"dataframe\">\n",
              "  <thead>\n",
              "    <tr style=\"text-align: right;\">\n",
              "      <th></th>\n",
              "      <th>ds</th>\n",
              "      <th>y</th>\n",
              "      <th>outlier</th>\n",
              "    </tr>\n",
              "  </thead>\n",
              "  <tbody>\n",
              "    <tr>\n",
              "      <th>0</th>\n",
              "      <td>2007-12-10</td>\n",
              "      <td>9.590761</td>\n",
              "      <td>no</td>\n",
              "    </tr>\n",
              "    <tr>\n",
              "      <th>1</th>\n",
              "      <td>2007-12-11</td>\n",
              "      <td>8.519590</td>\n",
              "      <td>no</td>\n",
              "    </tr>\n",
              "    <tr>\n",
              "      <th>2</th>\n",
              "      <td>2007-12-12</td>\n",
              "      <td>8.183677</td>\n",
              "      <td>no</td>\n",
              "    </tr>\n",
              "    <tr>\n",
              "      <th>3</th>\n",
              "      <td>2007-12-13</td>\n",
              "      <td>8.072467</td>\n",
              "      <td>no</td>\n",
              "    </tr>\n",
              "    <tr>\n",
              "      <th>4</th>\n",
              "      <td>2007-12-14</td>\n",
              "      <td>7.893572</td>\n",
              "      <td>no</td>\n",
              "    </tr>\n",
              "    <tr>\n",
              "      <th>...</th>\n",
              "      <td>...</td>\n",
              "      <td>...</td>\n",
              "      <td>...</td>\n",
              "    </tr>\n",
              "    <tr>\n",
              "      <th>2900</th>\n",
              "      <td>2016-01-16</td>\n",
              "      <td>7.817223</td>\n",
              "      <td>no</td>\n",
              "    </tr>\n",
              "    <tr>\n",
              "      <th>2901</th>\n",
              "      <td>2016-01-17</td>\n",
              "      <td>9.273878</td>\n",
              "      <td>no</td>\n",
              "    </tr>\n",
              "    <tr>\n",
              "      <th>2902</th>\n",
              "      <td>2016-01-18</td>\n",
              "      <td>NaN</td>\n",
              "      <td>yes</td>\n",
              "    </tr>\n",
              "    <tr>\n",
              "      <th>2903</th>\n",
              "      <td>2016-01-19</td>\n",
              "      <td>9.125871</td>\n",
              "      <td>no</td>\n",
              "    </tr>\n",
              "    <tr>\n",
              "      <th>2904</th>\n",
              "      <td>2016-01-20</td>\n",
              "      <td>8.891374</td>\n",
              "      <td>no</td>\n",
              "    </tr>\n",
              "  </tbody>\n",
              "</table>\n",
              "<p>2905 rows × 3 columns</p>\n",
              "</div>\n",
              "      <button class=\"colab-df-convert\" onclick=\"convertToInteractive('df-ac4a7051-2722-4148-889e-a68e91da0ed0')\"\n",
              "              title=\"Convert this dataframe to an interactive table.\"\n",
              "              style=\"display:none;\">\n",
              "        \n",
              "  <svg xmlns=\"http://www.w3.org/2000/svg\" height=\"24px\"viewBox=\"0 0 24 24\"\n",
              "       width=\"24px\">\n",
              "    <path d=\"M0 0h24v24H0V0z\" fill=\"none\"/>\n",
              "    <path d=\"M18.56 5.44l.94 2.06.94-2.06 2.06-.94-2.06-.94-.94-2.06-.94 2.06-2.06.94zm-11 1L8.5 8.5l.94-2.06 2.06-.94-2.06-.94L8.5 2.5l-.94 2.06-2.06.94zm10 10l.94 2.06.94-2.06 2.06-.94-2.06-.94-.94-2.06-.94 2.06-2.06.94z\"/><path d=\"M17.41 7.96l-1.37-1.37c-.4-.4-.92-.59-1.43-.59-.52 0-1.04.2-1.43.59L10.3 9.45l-7.72 7.72c-.78.78-.78 2.05 0 2.83L4 21.41c.39.39.9.59 1.41.59.51 0 1.02-.2 1.41-.59l7.78-7.78 2.81-2.81c.8-.78.8-2.07 0-2.86zM5.41 20L4 18.59l7.72-7.72 1.47 1.35L5.41 20z\"/>\n",
              "  </svg>\n",
              "      </button>\n",
              "      \n",
              "  <style>\n",
              "    .colab-df-container {\n",
              "      display:flex;\n",
              "      flex-wrap:wrap;\n",
              "      gap: 12px;\n",
              "    }\n",
              "\n",
              "    .colab-df-convert {\n",
              "      background-color: #E8F0FE;\n",
              "      border: none;\n",
              "      border-radius: 50%;\n",
              "      cursor: pointer;\n",
              "      display: none;\n",
              "      fill: #1967D2;\n",
              "      height: 32px;\n",
              "      padding: 0 0 0 0;\n",
              "      width: 32px;\n",
              "    }\n",
              "\n",
              "    .colab-df-convert:hover {\n",
              "      background-color: #E2EBFA;\n",
              "      box-shadow: 0px 1px 2px rgba(60, 64, 67, 0.3), 0px 1px 3px 1px rgba(60, 64, 67, 0.15);\n",
              "      fill: #174EA6;\n",
              "    }\n",
              "\n",
              "    [theme=dark] .colab-df-convert {\n",
              "      background-color: #3B4455;\n",
              "      fill: #D2E3FC;\n",
              "    }\n",
              "\n",
              "    [theme=dark] .colab-df-convert:hover {\n",
              "      background-color: #434B5C;\n",
              "      box-shadow: 0px 1px 3px 1px rgba(0, 0, 0, 0.15);\n",
              "      filter: drop-shadow(0px 1px 2px rgba(0, 0, 0, 0.3));\n",
              "      fill: #FFFFFF;\n",
              "    }\n",
              "  </style>\n",
              "\n",
              "      <script>\n",
              "        const buttonEl =\n",
              "          document.querySelector('#df-ac4a7051-2722-4148-889e-a68e91da0ed0 button.colab-df-convert');\n",
              "        buttonEl.style.display =\n",
              "          google.colab.kernel.accessAllowed ? 'block' : 'none';\n",
              "\n",
              "        async function convertToInteractive(key) {\n",
              "          const element = document.querySelector('#df-ac4a7051-2722-4148-889e-a68e91da0ed0');\n",
              "          const dataTable =\n",
              "            await google.colab.kernel.invokeFunction('convertToInteractive',\n",
              "                                                     [key], {});\n",
              "          if (!dataTable) return;\n",
              "\n",
              "          const docLinkHtml = 'Like what you see? Visit the ' +\n",
              "            '<a target=\"_blank\" href=https://colab.research.google.com/notebooks/data_table.ipynb>data table notebook</a>'\n",
              "            + ' to learn more about interactive tables.';\n",
              "          element.innerHTML = '';\n",
              "          dataTable['output_type'] = 'display_data';\n",
              "          await google.colab.output.renderOutput(dataTable, element);\n",
              "          const docLink = document.createElement('div');\n",
              "          docLink.innerHTML = docLinkHtml;\n",
              "          element.appendChild(docLink);\n",
              "        }\n",
              "      </script>\n",
              "    </div>\n",
              "  </div>\n",
              "  "
            ],
            "text/plain": [
              "              ds         y outlier\n",
              "0     2007-12-10  9.590761      no\n",
              "1     2007-12-11  8.519590      no\n",
              "2     2007-12-12  8.183677      no\n",
              "3     2007-12-13  8.072467      no\n",
              "4     2007-12-14  7.893572      no\n",
              "...          ...       ...     ...\n",
              "2900  2016-01-16  7.817223      no\n",
              "2901  2016-01-17  9.273878      no\n",
              "2902  2016-01-18       NaN     yes\n",
              "2903  2016-01-19  9.125871      no\n",
              "2904  2016-01-20  8.891374      no\n",
              "\n",
              "[2905 rows x 3 columns]"
            ]
          },
          "execution_count": 347,
          "metadata": {},
          "output_type": "execute_result"
        }
      ],
      "source": [
        "\n",
        "df.loc[(df['outlier']=='yes'), 'y'] = None\n",
        "df"
      ]
    },
    {
      "cell_type": "code",
      "execution_count": null,
      "metadata": {
        "colab": {
          "base_uri": "https://localhost:8080/",
          "height": 423
        },
        "id": "oEpmtVRwYKtP",
        "outputId": "6bb0283d-284f-472d-d6b5-0906d8004019"
      },
      "outputs": [
        {
          "data": {
            "text/html": [
              "\n",
              "  <div id=\"df-d13667e6-5e21-48be-9bc7-63251c98ec44\">\n",
              "    <div class=\"colab-df-container\">\n",
              "      <div>\n",
              "<style scoped>\n",
              "    .dataframe tbody tr th:only-of-type {\n",
              "        vertical-align: middle;\n",
              "    }\n",
              "\n",
              "    .dataframe tbody tr th {\n",
              "        vertical-align: top;\n",
              "    }\n",
              "\n",
              "    .dataframe thead th {\n",
              "        text-align: right;\n",
              "    }\n",
              "</style>\n",
              "<table border=\"1\" class=\"dataframe\">\n",
              "  <thead>\n",
              "    <tr style=\"text-align: right;\">\n",
              "      <th></th>\n",
              "      <th>ds</th>\n",
              "      <th>y</th>\n",
              "      <th>outlier</th>\n",
              "    </tr>\n",
              "  </thead>\n",
              "  <tbody>\n",
              "    <tr>\n",
              "      <th>0</th>\n",
              "      <td>2007-12-10</td>\n",
              "      <td>9.590761</td>\n",
              "      <td>no</td>\n",
              "    </tr>\n",
              "    <tr>\n",
              "      <th>1</th>\n",
              "      <td>2007-12-11</td>\n",
              "      <td>8.519590</td>\n",
              "      <td>no</td>\n",
              "    </tr>\n",
              "    <tr>\n",
              "      <th>2</th>\n",
              "      <td>2007-12-12</td>\n",
              "      <td>8.183677</td>\n",
              "      <td>no</td>\n",
              "    </tr>\n",
              "    <tr>\n",
              "      <th>3</th>\n",
              "      <td>2007-12-13</td>\n",
              "      <td>8.072467</td>\n",
              "      <td>no</td>\n",
              "    </tr>\n",
              "    <tr>\n",
              "      <th>4</th>\n",
              "      <td>2007-12-14</td>\n",
              "      <td>7.893572</td>\n",
              "      <td>no</td>\n",
              "    </tr>\n",
              "    <tr>\n",
              "      <th>...</th>\n",
              "      <td>...</td>\n",
              "      <td>...</td>\n",
              "      <td>...</td>\n",
              "    </tr>\n",
              "    <tr>\n",
              "      <th>2900</th>\n",
              "      <td>2016-01-16</td>\n",
              "      <td>7.817223</td>\n",
              "      <td>no</td>\n",
              "    </tr>\n",
              "    <tr>\n",
              "      <th>2901</th>\n",
              "      <td>2016-01-17</td>\n",
              "      <td>9.273878</td>\n",
              "      <td>no</td>\n",
              "    </tr>\n",
              "    <tr>\n",
              "      <th>2902</th>\n",
              "      <td>2016-01-18</td>\n",
              "      <td>9.273878</td>\n",
              "      <td>yes</td>\n",
              "    </tr>\n",
              "    <tr>\n",
              "      <th>2903</th>\n",
              "      <td>2016-01-19</td>\n",
              "      <td>9.125871</td>\n",
              "      <td>no</td>\n",
              "    </tr>\n",
              "    <tr>\n",
              "      <th>2904</th>\n",
              "      <td>2016-01-20</td>\n",
              "      <td>8.891374</td>\n",
              "      <td>no</td>\n",
              "    </tr>\n",
              "  </tbody>\n",
              "</table>\n",
              "<p>2905 rows × 3 columns</p>\n",
              "</div>\n",
              "      <button class=\"colab-df-convert\" onclick=\"convertToInteractive('df-d13667e6-5e21-48be-9bc7-63251c98ec44')\"\n",
              "              title=\"Convert this dataframe to an interactive table.\"\n",
              "              style=\"display:none;\">\n",
              "        \n",
              "  <svg xmlns=\"http://www.w3.org/2000/svg\" height=\"24px\"viewBox=\"0 0 24 24\"\n",
              "       width=\"24px\">\n",
              "    <path d=\"M0 0h24v24H0V0z\" fill=\"none\"/>\n",
              "    <path d=\"M18.56 5.44l.94 2.06.94-2.06 2.06-.94-2.06-.94-.94-2.06-.94 2.06-2.06.94zm-11 1L8.5 8.5l.94-2.06 2.06-.94-2.06-.94L8.5 2.5l-.94 2.06-2.06.94zm10 10l.94 2.06.94-2.06 2.06-.94-2.06-.94-.94-2.06-.94 2.06-2.06.94z\"/><path d=\"M17.41 7.96l-1.37-1.37c-.4-.4-.92-.59-1.43-.59-.52 0-1.04.2-1.43.59L10.3 9.45l-7.72 7.72c-.78.78-.78 2.05 0 2.83L4 21.41c.39.39.9.59 1.41.59.51 0 1.02-.2 1.41-.59l7.78-7.78 2.81-2.81c.8-.78.8-2.07 0-2.86zM5.41 20L4 18.59l7.72-7.72 1.47 1.35L5.41 20z\"/>\n",
              "  </svg>\n",
              "      </button>\n",
              "      \n",
              "  <style>\n",
              "    .colab-df-container {\n",
              "      display:flex;\n",
              "      flex-wrap:wrap;\n",
              "      gap: 12px;\n",
              "    }\n",
              "\n",
              "    .colab-df-convert {\n",
              "      background-color: #E8F0FE;\n",
              "      border: none;\n",
              "      border-radius: 50%;\n",
              "      cursor: pointer;\n",
              "      display: none;\n",
              "      fill: #1967D2;\n",
              "      height: 32px;\n",
              "      padding: 0 0 0 0;\n",
              "      width: 32px;\n",
              "    }\n",
              "\n",
              "    .colab-df-convert:hover {\n",
              "      background-color: #E2EBFA;\n",
              "      box-shadow: 0px 1px 2px rgba(60, 64, 67, 0.3), 0px 1px 3px 1px rgba(60, 64, 67, 0.15);\n",
              "      fill: #174EA6;\n",
              "    }\n",
              "\n",
              "    [theme=dark] .colab-df-convert {\n",
              "      background-color: #3B4455;\n",
              "      fill: #D2E3FC;\n",
              "    }\n",
              "\n",
              "    [theme=dark] .colab-df-convert:hover {\n",
              "      background-color: #434B5C;\n",
              "      box-shadow: 0px 1px 3px 1px rgba(0, 0, 0, 0.15);\n",
              "      filter: drop-shadow(0px 1px 2px rgba(0, 0, 0, 0.3));\n",
              "      fill: #FFFFFF;\n",
              "    }\n",
              "  </style>\n",
              "\n",
              "      <script>\n",
              "        const buttonEl =\n",
              "          document.querySelector('#df-d13667e6-5e21-48be-9bc7-63251c98ec44 button.colab-df-convert');\n",
              "        buttonEl.style.display =\n",
              "          google.colab.kernel.accessAllowed ? 'block' : 'none';\n",
              "\n",
              "        async function convertToInteractive(key) {\n",
              "          const element = document.querySelector('#df-d13667e6-5e21-48be-9bc7-63251c98ec44');\n",
              "          const dataTable =\n",
              "            await google.colab.kernel.invokeFunction('convertToInteractive',\n",
              "                                                     [key], {});\n",
              "          if (!dataTable) return;\n",
              "\n",
              "          const docLinkHtml = 'Like what you see? Visit the ' +\n",
              "            '<a target=\"_blank\" href=https://colab.research.google.com/notebooks/data_table.ipynb>data table notebook</a>'\n",
              "            + ' to learn more about interactive tables.';\n",
              "          element.innerHTML = '';\n",
              "          dataTable['output_type'] = 'display_data';\n",
              "          await google.colab.output.renderOutput(dataTable, element);\n",
              "          const docLink = document.createElement('div');\n",
              "          docLink.innerHTML = docLinkHtml;\n",
              "          element.appendChild(docLink);\n",
              "        }\n",
              "      </script>\n",
              "    </div>\n",
              "  </div>\n",
              "  "
            ],
            "text/plain": [
              "              ds         y outlier\n",
              "0     2007-12-10  9.590761      no\n",
              "1     2007-12-11  8.519590      no\n",
              "2     2007-12-12  8.183677      no\n",
              "3     2007-12-13  8.072467      no\n",
              "4     2007-12-14  7.893572      no\n",
              "...          ...       ...     ...\n",
              "2900  2016-01-16  7.817223      no\n",
              "2901  2016-01-17  9.273878      no\n",
              "2902  2016-01-18  9.273878     yes\n",
              "2903  2016-01-19  9.125871      no\n",
              "2904  2016-01-20  8.891374      no\n",
              "\n",
              "[2905 rows x 3 columns]"
            ]
          },
          "execution_count": 348,
          "metadata": {},
          "output_type": "execute_result"
        }
      ],
      "source": [
        "# okay to do - missing value imputation\n",
        "df.fillna(method='ffill', inplace=False)"
      ]
    },
    {
      "cell_type": "code",
      "execution_count": null,
      "metadata": {
        "colab": {
          "base_uri": "https://localhost:8080/"
        },
        "id": "AQlb2FLra804",
        "outputId": "efbecdbb-9b48-47c7-a046-fc922fed9c73"
      },
      "outputs": [
        {
          "data": {
            "text/plain": [
              "0       9.590761\n",
              "1       8.519590\n",
              "2       8.183677\n",
              "3       8.072467\n",
              "4       7.893572\n",
              "          ...   \n",
              "2900    7.817223\n",
              "2901    9.273878\n",
              "2902    8.071337\n",
              "2903    9.125871\n",
              "2904    8.891374\n",
              "Name: y, Length: 2905, dtype: float64"
            ]
          },
          "execution_count": 349,
          "metadata": {},
          "output_type": "execute_result"
        }
      ],
      "source": [
        "# NOT TO DO\n",
        "df.dropna() # drop the dates too\n",
        "df.y.fillna(df.y.mean()) # does not work for time series"
      ]
    },
    {
      "cell_type": "markdown",
      "metadata": {
        "id": "6TQnGIqQAZKF"
      },
      "source": [
        "### suggestion: Keep the missing value as it is or the outliers as null values"
      ]
    },
    {
      "cell_type": "markdown",
      "metadata": {
        "id": "kykA-cc25VGx"
      },
      "source": [
        "# Performance comparison"
      ]
    },
    {
      "cell_type": "markdown",
      "metadata": {
        "id": "07fY7WmB5qH6"
      },
      "source": [
        "### forecasting with unprocessed raw data"
      ]
    },
    {
      "cell_type": "code",
      "execution_count": null,
      "metadata": {
        "colab": {
          "base_uri": "https://localhost:8080/",
          "height": 478
        },
        "id": "siZBuP1yPIzx",
        "outputId": "876dd3f0-2e30-47db-e43f-6d1a23d9b838"
      },
      "outputs": [
        {
          "name": "stderr",
          "output_type": "stream",
          "text": [
            "22:53:16 - cmdstanpy - INFO - Chain [1] start processing\n",
            "22:53:17 - cmdstanpy - INFO - Chain [1] done processing\n"
          ]
        },
        {
          "data": {
            "image/png": "[encoded data removed]",
            "text/plain": [
              "<Figure size 720x432 with 1 Axes>"
            ]
          },
          "metadata": {},
          "output_type": "display_data"
        }
      ],
      "source": [
        "# Prophet fitted with raw data\n",
        "m = Prophet()\n",
        "m.fit(df_raw)\n",
        "future = m.make_future_dataframe(periods=1096)\n",
        "forecast = m.predict(future)\n",
        "fig = m.plot(forecast)\n",
        "plt.show()"
      ]
    },
    {
      "cell_type": "code",
      "execution_count": null,
      "metadata": {
        "colab": {
          "base_uri": "https://localhost:8080/",
          "height": 718,
          "referenced_widgets": [
            "51052aaa611640509227c5e60c0b7f06",
            "f9b148dd0e9b4f54aa9d923278e2d202",
            "d7e9b9886631445ab8e51d050a1a30c0",
            "cad197a5f15e404c90b9a3fc9952664d",
            "2eaddf36c94140ad8133f5f5288faa41",
            "91a83cb6e5bb44fa8d6bf58cc4d4a68a",
            "8bec5219a9e746cbb753f67bf29f4cff",
            "6cc835fcb55348e5aacf197d5e225796",
            "aca451c2038940cba911914408c2e0b6",
            "15261a49d26249ef96401462c4d8b61f",
            "676338c31daf404ea5fd502dbeb9de2f"
          ]
        },
        "id": "wCFtCB0eLQo4",
        "outputId": "ca100997-38fe-464b-a3cb-dfcb37cccc6d"
      },
      "outputs": [
        {
          "data": {
            "application/vnd.jupyter.widget-view+json": {
              "model_id": "51052aaa611640509227c5e60c0b7f06",
              "version_major": 2,
              "version_minor": 0
            },
            "text/plain": [
              "  0%|          | 0/13 [00:00<?, ?it/s]"
            ]
          },
          "metadata": {},
          "output_type": "display_data"
        },
        {
          "name": "stderr",
          "output_type": "stream",
          "text": [
            "22:31:05 - cmdstanpy - INFO - Chain [1] start processing\n",
            "22:31:05 - cmdstanpy - INFO - Chain [1] done processing\n",
            "22:31:07 - cmdstanpy - INFO - Chain [1] start processing\n",
            "22:31:07 - cmdstanpy - INFO - Chain [1] done processing\n",
            "22:31:08 - cmdstanpy - INFO - Chain [1] start processing\n",
            "22:31:09 - cmdstanpy - INFO - Chain [1] done processing\n",
            "22:31:10 - cmdstanpy - INFO - Chain [1] start processing\n",
            "22:31:10 - cmdstanpy - INFO - Chain [1] done processing\n",
            "22:31:12 - cmdstanpy - INFO - Chain [1] start processing\n",
            "22:31:12 - cmdstanpy - INFO - Chain [1] done processing\n",
            "22:31:14 - cmdstanpy - INFO - Chain [1] start processing\n",
            "22:31:14 - cmdstanpy - INFO - Chain [1] done processing\n",
            "22:31:15 - cmdstanpy - INFO - Chain [1] start processing\n",
            "22:31:15 - cmdstanpy - INFO - Chain [1] done processing\n",
            "22:31:17 - cmdstanpy - INFO - Chain [1] start processing\n",
            "22:31:17 - cmdstanpy - INFO - Chain [1] done processing\n",
            "22:31:19 - cmdstanpy - INFO - Chain [1] start processing\n",
            "22:31:19 - cmdstanpy - INFO - Chain [1] done processing\n",
            "22:31:21 - cmdstanpy - INFO - Chain [1] start processing\n",
            "22:31:21 - cmdstanpy - INFO - Chain [1] done processing\n",
            "22:31:23 - cmdstanpy - INFO - Chain [1] start processing\n",
            "22:31:23 - cmdstanpy - INFO - Chain [1] done processing\n",
            "22:31:25 - cmdstanpy - INFO - Chain [1] start processing\n",
            "22:31:25 - cmdstanpy - INFO - Chain [1] done processing\n",
            "22:31:27 - cmdstanpy - INFO - Chain [1] start processing\n",
            "22:31:28 - cmdstanpy - INFO - Chain [1] done processing\n"
          ]
        },
        {
          "data": {
            "text/html": [
              "\n",
              "  <div id=\"df-c2dbf5dd-742d-4736-bbfb-5ee09e983fd2\">\n",
              "    <div class=\"colab-df-container\">\n",
              "      <div>\n",
              "<style scoped>\n",
              "    .dataframe tbody tr th:only-of-type {\n",
              "        vertical-align: middle;\n",
              "    }\n",
              "\n",
              "    .dataframe tbody tr th {\n",
              "        vertical-align: top;\n",
              "    }\n",
              "\n",
              "    .dataframe thead th {\n",
              "        text-align: right;\n",
              "    }\n",
              "</style>\n",
              "<table border=\"1\" class=\"dataframe\">\n",
              "  <thead>\n",
              "    <tr style=\"text-align: right;\">\n",
              "      <th></th>\n",
              "      <th>horizon</th>\n",
              "      <th>mse</th>\n",
              "      <th>rmse</th>\n",
              "      <th>mae</th>\n",
              "      <th>mape</th>\n",
              "      <th>mdape</th>\n",
              "      <th>smape</th>\n",
              "      <th>coverage</th>\n",
              "    </tr>\n",
              "  </thead>\n",
              "  <tbody>\n",
              "    <tr>\n",
              "      <th>0</th>\n",
              "      <td>4 days</td>\n",
              "      <td>1.848212e+08</td>\n",
              "      <td>13594.894437</td>\n",
              "      <td>5241.910889</td>\n",
              "      <td>1.021591</td>\n",
              "      <td>0.955536</td>\n",
              "      <td>0.807426</td>\n",
              "      <td>0.945344</td>\n",
              "    </tr>\n",
              "    <tr>\n",
              "      <th>1</th>\n",
              "      <td>5 days</td>\n",
              "      <td>2.038085e+08</td>\n",
              "      <td>14276.149883</td>\n",
              "      <td>5972.287142</td>\n",
              "      <td>0.978462</td>\n",
              "      <td>0.852495</td>\n",
              "      <td>0.798254</td>\n",
              "      <td>0.894737</td>\n",
              "    </tr>\n",
              "    <tr>\n",
              "      <th>2</th>\n",
              "      <td>6 days</td>\n",
              "      <td>2.043120e+08</td>\n",
              "      <td>14293.774318</td>\n",
              "      <td>6120.191108</td>\n",
              "      <td>1.071146</td>\n",
              "      <td>0.934114</td>\n",
              "      <td>0.869622</td>\n",
              "      <td>0.868421</td>\n",
              "    </tr>\n",
              "    <tr>\n",
              "      <th>3</th>\n",
              "      <td>7 days</td>\n",
              "      <td>6.009424e+07</td>\n",
              "      <td>7752.047153</td>\n",
              "      <td>4954.249266</td>\n",
              "      <td>1.300213</td>\n",
              "      <td>0.911853</td>\n",
              "      <td>0.900528</td>\n",
              "      <td>0.868421</td>\n",
              "    </tr>\n",
              "    <tr>\n",
              "      <th>4</th>\n",
              "      <td>8 days</td>\n",
              "      <td>2.480207e+08</td>\n",
              "      <td>15748.672242</td>\n",
              "      <td>7011.977508</td>\n",
              "      <td>1.529243</td>\n",
              "      <td>0.885595</td>\n",
              "      <td>0.985600</td>\n",
              "      <td>0.868421</td>\n",
              "    </tr>\n",
              "  </tbody>\n",
              "</table>\n",
              "</div>\n",
              "      <button class=\"colab-df-convert\" onclick=\"convertToInteractive('df-c2dbf5dd-742d-4736-bbfb-5ee09e983fd2')\"\n",
              "              title=\"Convert this dataframe to an interactive table.\"\n",
              "              style=\"display:none;\">\n",
              "        \n",
              "  <svg xmlns=\"http://www.w3.org/2000/svg\" height=\"24px\"viewBox=\"0 0 24 24\"\n",
              "       width=\"24px\">\n",
              "    <path d=\"M0 0h24v24H0V0z\" fill=\"none\"/>\n",
              "    <path d=\"M18.56 5.44l.94 2.06.94-2.06 2.06-.94-2.06-.94-.94-2.06-.94 2.06-2.06.94zm-11 1L8.5 8.5l.94-2.06 2.06-.94-2.06-.94L8.5 2.5l-.94 2.06-2.06.94zm10 10l.94 2.06.94-2.06 2.06-.94-2.06-.94-.94-2.06-.94 2.06-2.06.94z\"/><path d=\"M17.41 7.96l-1.37-1.37c-.4-.4-.92-.59-1.43-.59-.52 0-1.04.2-1.43.59L10.3 9.45l-7.72 7.72c-.78.78-.78 2.05 0 2.83L4 21.41c.39.39.9.59 1.41.59.51 0 1.02-.2 1.41-.59l7.78-7.78 2.81-2.81c.8-.78.8-2.07 0-2.86zM5.41 20L4 18.59l7.72-7.72 1.47 1.35L5.41 20z\"/>\n",
              "  </svg>\n",
              "      </button>\n",
              "      \n",
              "  <style>\n",
              "    .colab-df-container {\n",
              "      display:flex;\n",
              "      flex-wrap:wrap;\n",
              "      gap: 12px;\n",
              "    }\n",
              "\n",
              "    .colab-df-convert {\n",
              "      background-color: #E8F0FE;\n",
              "      border: none;\n",
              "      border-radius: 50%;\n",
              "      cursor: pointer;\n",
              "      display: none;\n",
              "      fill: #1967D2;\n",
              "      height: 32px;\n",
              "      padding: 0 0 0 0;\n",
              "      width: 32px;\n",
              "    }\n",
              "\n",
              "    .colab-df-convert:hover {\n",
              "      background-color: #E2EBFA;\n",
              "      box-shadow: 0px 1px 2px rgba(60, 64, 67, 0.3), 0px 1px 3px 1px rgba(60, 64, 67, 0.15);\n",
              "      fill: #174EA6;\n",
              "    }\n",
              "\n",
              "    [theme=dark] .colab-df-convert {\n",
              "      background-color: #3B4455;\n",
              "      fill: #D2E3FC;\n",
              "    }\n",
              "\n",
              "    [theme=dark] .colab-df-convert:hover {\n",
              "      background-color: #434B5C;\n",
              "      box-shadow: 0px 1px 3px 1px rgba(0, 0, 0, 0.15);\n",
              "      filter: drop-shadow(0px 1px 2px rgba(0, 0, 0, 0.3));\n",
              "      fill: #FFFFFF;\n",
              "    }\n",
              "  </style>\n",
              "\n",
              "      <script>\n",
              "        const buttonEl =\n",
              "          document.querySelector('#df-c2dbf5dd-742d-4736-bbfb-5ee09e983fd2 button.colab-df-convert');\n",
              "        buttonEl.style.display =\n",
              "          google.colab.kernel.accessAllowed ? 'block' : 'none';\n",
              "\n",
              "        async function convertToInteractive(key) {\n",
              "          const element = document.querySelector('#df-c2dbf5dd-742d-4736-bbfb-5ee09e983fd2');\n",
              "          const dataTable =\n",
              "            await google.colab.kernel.invokeFunction('convertToInteractive',\n",
              "                                                     [key], {});\n",
              "          if (!dataTable) return;\n",
              "\n",
              "          const docLinkHtml = 'Like what you see? Visit the ' +\n",
              "            '<a target=\"_blank\" href=https://colab.research.google.com/notebooks/data_table.ipynb>data table notebook</a>'\n",
              "            + ' to learn more about interactive tables.';\n",
              "          element.innerHTML = '';\n",
              "          dataTable['output_type'] = 'display_data';\n",
              "          await google.colab.output.renderOutput(dataTable, element);\n",
              "          const docLink = document.createElement('div');\n",
              "          docLink.innerHTML = docLinkHtml;\n",
              "          element.appendChild(docLink);\n",
              "        }\n",
              "      </script>\n",
              "    </div>\n",
              "  </div>\n",
              "  "
            ],
            "text/plain": [
              "  horizon           mse          rmse          mae      mape     mdape  \\\n",
              "0  4 days  1.848212e+08  13594.894437  5241.910889  1.021591  0.955536   \n",
              "1  5 days  2.038085e+08  14276.149883  5972.287142  0.978462  0.852495   \n",
              "2  6 days  2.043120e+08  14293.774318  6120.191108  1.071146  0.934114   \n",
              "3  7 days  6.009424e+07   7752.047153  4954.249266  1.300213  0.911853   \n",
              "4  8 days  2.480207e+08  15748.672242  7011.977508  1.529243  0.885595   \n",
              "\n",
              "      smape  coverage  \n",
              "0  0.807426  0.945344  \n",
              "1  0.798254  0.894737  \n",
              "2  0.869622  0.868421  \n",
              "3  0.900528  0.868421  \n",
              "4  0.985600  0.868421  "
            ]
          },
          "execution_count": 351,
          "metadata": {},
          "output_type": "execute_result"
        }
      ],
      "source": [
        "evaluation_model = cross_validation(m, initial='730 days', period='180 days', horizon = '30 days')\n",
        "evaluation_metrix = performance_metrics(evaluation_model)\n",
        "evaluation_metrix.head(5)"
      ]
    },
    {
      "cell_type": "markdown",
      "metadata": {
        "id": "J4_jCMcv58a4"
      },
      "source": [
        "remarks: messed up trends and seasonalities with high mape"
      ]
    },
    {
      "cell_type": "markdown",
      "metadata": {
        "id": "_eZbszyK6seM"
      },
      "source": [
        "### forecasting with log-converted data"
      ]
    },
    {
      "cell_type": "code",
      "execution_count": null,
      "metadata": {
        "colab": {
          "base_uri": "https://localhost:8080/",
          "height": 478
        },
        "id": "-NnjlwcWTVCU",
        "outputId": "edc4a66e-3e6d-470c-a0a7-cd98625ff9d8"
      },
      "outputs": [
        {
          "name": "stderr",
          "output_type": "stream",
          "text": [
            "22:31:30 - cmdstanpy - INFO - Chain [1] start processing\n",
            "22:31:30 - cmdstanpy - INFO - Chain [1] done processing\n"
          ]
        },
        {
          "data": {
            "image/png": "[encoded data removed]",
            "text/plain": [
              "<Figure size 720x432 with 1 Axes>"
            ]
          },
          "metadata": {},
          "output_type": "display_data"
        }
      ],
      "source": [
        "# prophet fitted with less skewed data\n",
        "m = Prophet()\n",
        "m.fit(df_log)\n",
        "future = m.make_future_dataframe(periods=1096)\n",
        "forecast = m.predict(future)\n",
        "fig = m.plot(forecast)\n",
        "plt.show()"
      ]
    },
    {
      "cell_type": "code",
      "execution_count": null,
      "metadata": {
        "colab": {
          "base_uri": "https://localhost:8080/",
          "height": 718,
          "referenced_widgets": [
            "95a84513c6884ff0bb7ecf5db89b2a93",
            "e2e1c5caa120448e9c3ff2362343f42f",
            "5d450b55be3244f48b08a16e4adb94af",
            "82c3e330e5f244e3a13d0bf258ee96ef",
            "3a810f49979c4ecd8c7586c5c102d279",
            "ba6fe642a4b64d93b1619b0fdb3c0408",
            "6c1f34c54d0946aa83a86bbde3e56406",
            "44fb155b97aa4349b3762e97088a7caf",
            "50e1ce078b9440e7b476efd27a093a9d",
            "b3214522cbb1439786f55d73711dcce6",
            "29f12511855d4733a294c907647135ac"
          ]
        },
        "id": "f8cM5btkXi9i",
        "outputId": "98b95c76-f6a2-435d-ea02-c3665d602535"
      },
      "outputs": [
        {
          "data": {
            "application/vnd.jupyter.widget-view+json": {
              "model_id": "95a84513c6884ff0bb7ecf5db89b2a93",
              "version_major": 2,
              "version_minor": 0
            },
            "text/plain": [
              "  0%|          | 0/13 [00:00<?, ?it/s]"
            ]
          },
          "metadata": {},
          "output_type": "display_data"
        },
        {
          "name": "stderr",
          "output_type": "stream",
          "text": [
            "22:31:35 - cmdstanpy - INFO - Chain [1] start processing\n",
            "22:31:35 - cmdstanpy - INFO - Chain [1] done processing\n",
            "22:31:37 - cmdstanpy - INFO - Chain [1] start processing\n",
            "22:31:37 - cmdstanpy - INFO - Chain [1] done processing\n",
            "22:31:38 - cmdstanpy - INFO - Chain [1] start processing\n",
            "22:31:39 - cmdstanpy - INFO - Chain [1] done processing\n",
            "22:31:40 - cmdstanpy - INFO - Chain [1] start processing\n",
            "22:31:40 - cmdstanpy - INFO - Chain [1] done processing\n",
            "22:31:42 - cmdstanpy - INFO - Chain [1] start processing\n",
            "22:31:42 - cmdstanpy - INFO - Chain [1] done processing\n",
            "22:31:44 - cmdstanpy - INFO - Chain [1] start processing\n",
            "22:31:44 - cmdstanpy - INFO - Chain [1] done processing\n",
            "22:31:46 - cmdstanpy - INFO - Chain [1] start processing\n",
            "22:31:46 - cmdstanpy - INFO - Chain [1] done processing\n",
            "22:31:48 - cmdstanpy - INFO - Chain [1] start processing\n",
            "22:31:48 - cmdstanpy - INFO - Chain [1] done processing\n",
            "22:31:50 - cmdstanpy - INFO - Chain [1] start processing\n",
            "22:31:50 - cmdstanpy - INFO - Chain [1] done processing\n",
            "22:31:52 - cmdstanpy - INFO - Chain [1] start processing\n",
            "22:31:52 - cmdstanpy - INFO - Chain [1] done processing\n",
            "22:31:54 - cmdstanpy - INFO - Chain [1] start processing\n",
            "22:31:54 - cmdstanpy - INFO - Chain [1] done processing\n",
            "22:31:56 - cmdstanpy - INFO - Chain [1] start processing\n",
            "22:31:57 - cmdstanpy - INFO - Chain [1] done processing\n",
            "22:31:58 - cmdstanpy - INFO - Chain [1] start processing\n",
            "22:31:59 - cmdstanpy - INFO - Chain [1] done processing\n"
          ]
        },
        {
          "data": {
            "text/html": [
              "\n",
              "  <div id=\"df-c050ff80-ab43-43c8-9fca-684bd2287da1\">\n",
              "    <div class=\"colab-df-container\">\n",
              "      <div>\n",
              "<style scoped>\n",
              "    .dataframe tbody tr th:only-of-type {\n",
              "        vertical-align: middle;\n",
              "    }\n",
              "\n",
              "    .dataframe tbody tr th {\n",
              "        vertical-align: top;\n",
              "    }\n",
              "\n",
              "    .dataframe thead th {\n",
              "        text-align: right;\n",
              "    }\n",
              "</style>\n",
              "<table border=\"1\" class=\"dataframe\">\n",
              "  <thead>\n",
              "    <tr style=\"text-align: right;\">\n",
              "      <th></th>\n",
              "      <th>horizon</th>\n",
              "      <th>mse</th>\n",
              "      <th>rmse</th>\n",
              "      <th>mae</th>\n",
              "      <th>mape</th>\n",
              "      <th>mdape</th>\n",
              "      <th>smape</th>\n",
              "      <th>coverage</th>\n",
              "    </tr>\n",
              "  </thead>\n",
              "  <tbody>\n",
              "    <tr>\n",
              "      <th>0</th>\n",
              "      <td>4 days</td>\n",
              "      <td>0.297400</td>\n",
              "      <td>0.545344</td>\n",
              "      <td>0.395284</td>\n",
              "      <td>0.046858</td>\n",
              "      <td>0.034373</td>\n",
              "      <td>0.047450</td>\n",
              "      <td>0.761134</td>\n",
              "    </tr>\n",
              "    <tr>\n",
              "      <th>1</th>\n",
              "      <td>5 days</td>\n",
              "      <td>0.355086</td>\n",
              "      <td>0.595891</td>\n",
              "      <td>0.465639</td>\n",
              "      <td>0.054584</td>\n",
              "      <td>0.046224</td>\n",
              "      <td>0.054941</td>\n",
              "      <td>0.710526</td>\n",
              "    </tr>\n",
              "    <tr>\n",
              "      <th>2</th>\n",
              "      <td>6 days</td>\n",
              "      <td>0.364899</td>\n",
              "      <td>0.604068</td>\n",
              "      <td>0.473654</td>\n",
              "      <td>0.055003</td>\n",
              "      <td>0.048037</td>\n",
              "      <td>0.055129</td>\n",
              "      <td>0.710526</td>\n",
              "    </tr>\n",
              "    <tr>\n",
              "      <th>3</th>\n",
              "      <td>7 days</td>\n",
              "      <td>0.335283</td>\n",
              "      <td>0.579036</td>\n",
              "      <td>0.469513</td>\n",
              "      <td>0.055026</td>\n",
              "      <td>0.048943</td>\n",
              "      <td>0.054996</td>\n",
              "      <td>0.684211</td>\n",
              "    </tr>\n",
              "    <tr>\n",
              "      <th>4</th>\n",
              "      <td>8 days</td>\n",
              "      <td>0.425749</td>\n",
              "      <td>0.652495</td>\n",
              "      <td>0.481167</td>\n",
              "      <td>0.054572</td>\n",
              "      <td>0.046466</td>\n",
              "      <td>0.055342</td>\n",
              "      <td>0.657895</td>\n",
              "    </tr>\n",
              "  </tbody>\n",
              "</table>\n",
              "</div>\n",
              "      <button class=\"colab-df-convert\" onclick=\"convertToInteractive('df-c050ff80-ab43-43c8-9fca-684bd2287da1')\"\n",
              "              title=\"Convert this dataframe to an interactive table.\"\n",
              "              style=\"display:none;\">\n",
              "        \n",
              "  <svg xmlns=\"http://www.w3.org/2000/svg\" height=\"24px\"viewBox=\"0 0 24 24\"\n",
              "       width=\"24px\">\n",
              "    <path d=\"M0 0h24v24H0V0z\" fill=\"none\"/>\n",
              "    <path d=\"M18.56 5.44l.94 2.06.94-2.06 2.06-.94-2.06-.94-.94-2.06-.94 2.06-2.06.94zm-11 1L8.5 8.5l.94-2.06 2.06-.94-2.06-.94L8.5 2.5l-.94 2.06-2.06.94zm10 10l.94 2.06.94-2.06 2.06-.94-2.06-.94-.94-2.06-.94 2.06-2.06.94z\"/><path d=\"M17.41 7.96l-1.37-1.37c-.4-.4-.92-.59-1.43-.59-.52 0-1.04.2-1.43.59L10.3 9.45l-7.72 7.72c-.78.78-.78 2.05 0 2.83L4 21.41c.39.39.9.59 1.41.59.51 0 1.02-.2 1.41-.59l7.78-7.78 2.81-2.81c.8-.78.8-2.07 0-2.86zM5.41 20L4 18.59l7.72-7.72 1.47 1.35L5.41 20z\"/>\n",
              "  </svg>\n",
              "      </button>\n",
              "      \n",
              "  <style>\n",
              "    .colab-df-container {\n",
              "      display:flex;\n",
              "      flex-wrap:wrap;\n",
              "      gap: 12px;\n",
              "    }\n",
              "\n",
              "    .colab-df-convert {\n",
              "      background-color: #E8F0FE;\n",
              "      border: none;\n",
              "      border-radius: 50%;\n",
              "      cursor: pointer;\n",
              "      display: none;\n",
              "      fill: #1967D2;\n",
              "      height: 32px;\n",
              "      padding: 0 0 0 0;\n",
              "      width: 32px;\n",
              "    }\n",
              "\n",
              "    .colab-df-convert:hover {\n",
              "      background-color: #E2EBFA;\n",
              "      box-shadow: 0px 1px 2px rgba(60, 64, 67, 0.3), 0px 1px 3px 1px rgba(60, 64, 67, 0.15);\n",
              "      fill: #174EA6;\n",
              "    }\n",
              "\n",
              "    [theme=dark] .colab-df-convert {\n",
              "      background-color: #3B4455;\n",
              "      fill: #D2E3FC;\n",
              "    }\n",
              "\n",
              "    [theme=dark] .colab-df-convert:hover {\n",
              "      background-color: #434B5C;\n",
              "      box-shadow: 0px 1px 3px 1px rgba(0, 0, 0, 0.15);\n",
              "      filter: drop-shadow(0px 1px 2px rgba(0, 0, 0, 0.3));\n",
              "      fill: #FFFFFF;\n",
              "    }\n",
              "  </style>\n",
              "\n",
              "      <script>\n",
              "        const buttonEl =\n",
              "          document.querySelector('#df-c050ff80-ab43-43c8-9fca-684bd2287da1 button.colab-df-convert');\n",
              "        buttonEl.style.display =\n",
              "          google.colab.kernel.accessAllowed ? 'block' : 'none';\n",
              "\n",
              "        async function convertToInteractive(key) {\n",
              "          const element = document.querySelector('#df-c050ff80-ab43-43c8-9fca-684bd2287da1');\n",
              "          const dataTable =\n",
              "            await google.colab.kernel.invokeFunction('convertToInteractive',\n",
              "                                                     [key], {});\n",
              "          if (!dataTable) return;\n",
              "\n",
              "          const docLinkHtml = 'Like what you see? Visit the ' +\n",
              "            '<a target=\"_blank\" href=https://colab.research.google.com/notebooks/data_table.ipynb>data table notebook</a>'\n",
              "            + ' to learn more about interactive tables.';\n",
              "          element.innerHTML = '';\n",
              "          dataTable['output_type'] = 'display_data';\n",
              "          await google.colab.output.renderOutput(dataTable, element);\n",
              "          const docLink = document.createElement('div');\n",
              "          docLink.innerHTML = docLinkHtml;\n",
              "          element.appendChild(docLink);\n",
              "        }\n",
              "      </script>\n",
              "    </div>\n",
              "  </div>\n",
              "  "
            ],
            "text/plain": [
              "  horizon       mse      rmse       mae      mape     mdape     smape  \\\n",
              "0  4 days  0.297400  0.545344  0.395284  0.046858  0.034373  0.047450   \n",
              "1  5 days  0.355086  0.595891  0.465639  0.054584  0.046224  0.054941   \n",
              "2  6 days  0.364899  0.604068  0.473654  0.055003  0.048037  0.055129   \n",
              "3  7 days  0.335283  0.579036  0.469513  0.055026  0.048943  0.054996   \n",
              "4  8 days  0.425749  0.652495  0.481167  0.054572  0.046466  0.055342   \n",
              "\n",
              "   coverage  \n",
              "0  0.761134  \n",
              "1  0.710526  \n",
              "2  0.710526  \n",
              "3  0.684211  \n",
              "4  0.657895  "
            ]
          },
          "execution_count": 353,
          "metadata": {},
          "output_type": "execute_result"
        }
      ],
      "source": [
        "evaluation_model = cross_validation(m, initial='730 days', period='180 days', horizon = '30 days')\n",
        "evaluation_metrix = performance_metrics(evaluation_model)\n",
        "evaluation_metrix.head(5)"
      ]
    },
    {
      "cell_type": "markdown",
      "metadata": {
        "id": "hOfP0qK67TPL"
      },
      "source": [
        "### forecasting with outlier treated data"
      ]
    },
    {
      "cell_type": "code",
      "execution_count": null,
      "metadata": {
        "colab": {
          "base_uri": "https://localhost:8080/",
          "height": 478
        },
        "id": "wUnkpVkv8gK3",
        "outputId": "9e8cbcec-b8eb-47f6-8dc5-b722787c363a"
      },
      "outputs": [
        {
          "name": "stderr",
          "output_type": "stream",
          "text": [
            "22:32:01 - cmdstanpy - INFO - Chain [1] start processing\n",
            "22:32:01 - cmdstanpy - INFO - Chain [1] done processing\n"
          ]
        },
        {
          "data": {
            "image/png": "[encoded data removed]",
            "text/plain": [
              "<Figure size 720x432 with 1 Axes>"
            ]
          },
          "metadata": {},
          "output_type": "display_data"
        }
      ],
      "source": [
        "# prophet fitted with less skewed data\n",
        "m = Prophet()\n",
        "m.fit(df)\n",
        "future = m.make_future_dataframe(periods=1096)\n",
        "forecast = m.predict(future)\n",
        "fig = m.plot(forecast)\n",
        "plt.show()"
      ]
    },
    {
      "cell_type": "code",
      "execution_count": null,
      "metadata": {
        "colab": {
          "base_uri": "https://localhost:8080/",
          "height": 718,
          "referenced_widgets": [
            "b933259acbd6426a984ae8acba51abf9",
            "752d75fb7d964671ae66a55d64e75607",
            "6ee485827552493ba4535b67b4ed938b",
            "d4e9dc00af2a4b2d8f89c23036e41d4e",
            "5b6934841bf143be9b12b826ee8bb3cd",
            "ab9bad72d61f4a76922bc3c489f535f0",
            "8f79f0e230924c30a0a379366b5703ec",
            "3d8ae742a9304ab2b0203668be7ae7b0",
            "6dcf8dafc0fe467d9540b9d9896d667b",
            "b1ce42c2d8354ae0aa2e3d50897892fc",
            "93207ed8cedd483689f5450c0568cb45"
          ]
        },
        "id": "31pAFqb68hvP",
        "outputId": "cd6b3db7-df1b-453f-eefc-0216236372ca"
      },
      "outputs": [
        {
          "data": {
            "application/vnd.jupyter.widget-view+json": {
              "model_id": "b933259acbd6426a984ae8acba51abf9",
              "version_major": 2,
              "version_minor": 0
            },
            "text/plain": [
              "  0%|          | 0/13 [00:00<?, ?it/s]"
            ]
          },
          "metadata": {},
          "output_type": "display_data"
        },
        {
          "name": "stderr",
          "output_type": "stream",
          "text": [
            "22:32:06 - cmdstanpy - INFO - Chain [1] start processing\n",
            "22:32:06 - cmdstanpy - INFO - Chain [1] done processing\n",
            "22:32:08 - cmdstanpy - INFO - Chain [1] start processing\n",
            "22:32:08 - cmdstanpy - INFO - Chain [1] done processing\n",
            "22:32:10 - cmdstanpy - INFO - Chain [1] start processing\n",
            "22:32:10 - cmdstanpy - INFO - Chain [1] done processing\n",
            "22:32:11 - cmdstanpy - INFO - Chain [1] start processing\n",
            "22:32:11 - cmdstanpy - INFO - Chain [1] done processing\n",
            "22:32:13 - cmdstanpy - INFO - Chain [1] start processing\n",
            "22:32:13 - cmdstanpy - INFO - Chain [1] done processing\n",
            "22:32:15 - cmdstanpy - INFO - Chain [1] start processing\n",
            "22:32:15 - cmdstanpy - INFO - Chain [1] done processing\n",
            "22:32:17 - cmdstanpy - INFO - Chain [1] start processing\n",
            "22:32:17 - cmdstanpy - INFO - Chain [1] done processing\n",
            "22:32:19 - cmdstanpy - INFO - Chain [1] start processing\n",
            "22:32:19 - cmdstanpy - INFO - Chain [1] done processing\n",
            "22:32:21 - cmdstanpy - INFO - Chain [1] start processing\n",
            "22:32:21 - cmdstanpy - INFO - Chain [1] done processing\n",
            "22:32:23 - cmdstanpy - INFO - Chain [1] start processing\n",
            "22:32:23 - cmdstanpy - INFO - Chain [1] done processing\n",
            "22:32:25 - cmdstanpy - INFO - Chain [1] start processing\n",
            "22:32:25 - cmdstanpy - INFO - Chain [1] done processing\n",
            "22:32:27 - cmdstanpy - INFO - Chain [1] start processing\n",
            "22:32:28 - cmdstanpy - INFO - Chain [1] done processing\n",
            "22:32:29 - cmdstanpy - INFO - Chain [1] start processing\n",
            "22:32:30 - cmdstanpy - INFO - Chain [1] done processing\n"
          ]
        },
        {
          "data": {
            "text/html": [
              "\n",
              "  <div id=\"df-ce1ecf7f-2711-47c1-ae8d-716a0948df62\">\n",
              "    <div class=\"colab-df-container\">\n",
              "      <div>\n",
              "<style scoped>\n",
              "    .dataframe tbody tr th:only-of-type {\n",
              "        vertical-align: middle;\n",
              "    }\n",
              "\n",
              "    .dataframe tbody tr th {\n",
              "        vertical-align: top;\n",
              "    }\n",
              "\n",
              "    .dataframe thead th {\n",
              "        text-align: right;\n",
              "    }\n",
              "</style>\n",
              "<table border=\"1\" class=\"dataframe\">\n",
              "  <thead>\n",
              "    <tr style=\"text-align: right;\">\n",
              "      <th></th>\n",
              "      <th>horizon</th>\n",
              "      <th>mse</th>\n",
              "      <th>rmse</th>\n",
              "      <th>mae</th>\n",
              "      <th>mape</th>\n",
              "      <th>mdape</th>\n",
              "      <th>smape</th>\n",
              "      <th>coverage</th>\n",
              "    </tr>\n",
              "  </thead>\n",
              "  <tbody>\n",
              "    <tr>\n",
              "      <th>0</th>\n",
              "      <td>3 days</td>\n",
              "      <td>0.139393</td>\n",
              "      <td>0.373354</td>\n",
              "      <td>0.280514</td>\n",
              "      <td>0.034566</td>\n",
              "      <td>0.021836</td>\n",
              "      <td>0.034885</td>\n",
              "      <td>0.775824</td>\n",
              "    </tr>\n",
              "    <tr>\n",
              "      <th>1</th>\n",
              "      <td>4 days</td>\n",
              "      <td>0.146680</td>\n",
              "      <td>0.382989</td>\n",
              "      <td>0.301484</td>\n",
              "      <td>0.037791</td>\n",
              "      <td>0.033452</td>\n",
              "      <td>0.037881</td>\n",
              "      <td>0.714286</td>\n",
              "    </tr>\n",
              "    <tr>\n",
              "      <th>2</th>\n",
              "      <td>5 days</td>\n",
              "      <td>0.167160</td>\n",
              "      <td>0.408853</td>\n",
              "      <td>0.343252</td>\n",
              "      <td>0.043413</td>\n",
              "      <td>0.037773</td>\n",
              "      <td>0.043100</td>\n",
              "      <td>0.680952</td>\n",
              "    </tr>\n",
              "    <tr>\n",
              "      <th>3</th>\n",
              "      <td>6 days</td>\n",
              "      <td>0.181400</td>\n",
              "      <td>0.425911</td>\n",
              "      <td>0.357876</td>\n",
              "      <td>0.044397</td>\n",
              "      <td>0.037773</td>\n",
              "      <td>0.043966</td>\n",
              "      <td>0.702381</td>\n",
              "    </tr>\n",
              "    <tr>\n",
              "      <th>4</th>\n",
              "      <td>7 days</td>\n",
              "      <td>0.201771</td>\n",
              "      <td>0.449189</td>\n",
              "      <td>0.376054</td>\n",
              "      <td>0.045599</td>\n",
              "      <td>0.043715</td>\n",
              "      <td>0.045392</td>\n",
              "      <td>0.657143</td>\n",
              "    </tr>\n",
              "  </tbody>\n",
              "</table>\n",
              "</div>\n",
              "      <button class=\"colab-df-convert\" onclick=\"convertToInteractive('df-ce1ecf7f-2711-47c1-ae8d-716a0948df62')\"\n",
              "              title=\"Convert this dataframe to an interactive table.\"\n",
              "              style=\"display:none;\">\n",
              "        \n",
              "  <svg xmlns=\"http://www.w3.org/2000/svg\" height=\"24px\"viewBox=\"0 0 24 24\"\n",
              "       width=\"24px\">\n",
              "    <path d=\"M0 0h24v24H0V0z\" fill=\"none\"/>\n",
              "    <path d=\"M18.56 5.44l.94 2.06.94-2.06 2.06-.94-2.06-.94-.94-2.06-.94 2.06-2.06.94zm-11 1L8.5 8.5l.94-2.06 2.06-.94-2.06-.94L8.5 2.5l-.94 2.06-2.06.94zm10 10l.94 2.06.94-2.06 2.06-.94-2.06-.94-.94-2.06-.94 2.06-2.06.94z\"/><path d=\"M17.41 7.96l-1.37-1.37c-.4-.4-.92-.59-1.43-.59-.52 0-1.04.2-1.43.59L10.3 9.45l-7.72 7.72c-.78.78-.78 2.05 0 2.83L4 21.41c.39.39.9.59 1.41.59.51 0 1.02-.2 1.41-.59l7.78-7.78 2.81-2.81c.8-.78.8-2.07 0-2.86zM5.41 20L4 18.59l7.72-7.72 1.47 1.35L5.41 20z\"/>\n",
              "  </svg>\n",
              "      </button>\n",
              "      \n",
              "  <style>\n",
              "    .colab-df-container {\n",
              "      display:flex;\n",
              "      flex-wrap:wrap;\n",
              "      gap: 12px;\n",
              "    }\n",
              "\n",
              "    .colab-df-convert {\n",
              "      background-color: #E8F0FE;\n",
              "      border: none;\n",
              "      border-radius: 50%;\n",
              "      cursor: pointer;\n",
              "      display: none;\n",
              "      fill: #1967D2;\n",
              "      height: 32px;\n",
              "      padding: 0 0 0 0;\n",
              "      width: 32px;\n",
              "    }\n",
              "\n",
              "    .colab-df-convert:hover {\n",
              "      background-color: #E2EBFA;\n",
              "      box-shadow: 0px 1px 2px rgba(60, 64, 67, 0.3), 0px 1px 3px 1px rgba(60, 64, 67, 0.15);\n",
              "      fill: #174EA6;\n",
              "    }\n",
              "\n",
              "    [theme=dark] .colab-df-convert {\n",
              "      background-color: #3B4455;\n",
              "      fill: #D2E3FC;\n",
              "    }\n",
              "\n",
              "    [theme=dark] .colab-df-convert:hover {\n",
              "      background-color: #434B5C;\n",
              "      box-shadow: 0px 1px 3px 1px rgba(0, 0, 0, 0.15);\n",
              "      filter: drop-shadow(0px 1px 2px rgba(0, 0, 0, 0.3));\n",
              "      fill: #FFFFFF;\n",
              "    }\n",
              "  </style>\n",
              "\n",
              "      <script>\n",
              "        const buttonEl =\n",
              "          document.querySelector('#df-ce1ecf7f-2711-47c1-ae8d-716a0948df62 button.colab-df-convert');\n",
              "        buttonEl.style.display =\n",
              "          google.colab.kernel.accessAllowed ? 'block' : 'none';\n",
              "\n",
              "        async function convertToInteractive(key) {\n",
              "          const element = document.querySelector('#df-ce1ecf7f-2711-47c1-ae8d-716a0948df62');\n",
              "          const dataTable =\n",
              "            await google.colab.kernel.invokeFunction('convertToInteractive',\n",
              "                                                     [key], {});\n",
              "          if (!dataTable) return;\n",
              "\n",
              "          const docLinkHtml = 'Like what you see? Visit the ' +\n",
              "            '<a target=\"_blank\" href=https://colab.research.google.com/notebooks/data_table.ipynb>data table notebook</a>'\n",
              "            + ' to learn more about interactive tables.';\n",
              "          element.innerHTML = '';\n",
              "          dataTable['output_type'] = 'display_data';\n",
              "          await google.colab.output.renderOutput(dataTable, element);\n",
              "          const docLink = document.createElement('div');\n",
              "          docLink.innerHTML = docLinkHtml;\n",
              "          element.appendChild(docLink);\n",
              "        }\n",
              "      </script>\n",
              "    </div>\n",
              "  </div>\n",
              "  "
            ],
            "text/plain": [
              "  horizon       mse      rmse       mae      mape     mdape     smape  \\\n",
              "0  3 days  0.139393  0.373354  0.280514  0.034566  0.021836  0.034885   \n",
              "1  4 days  0.146680  0.382989  0.301484  0.037791  0.033452  0.037881   \n",
              "2  5 days  0.167160  0.408853  0.343252  0.043413  0.037773  0.043100   \n",
              "3  6 days  0.181400  0.425911  0.357876  0.044397  0.037773  0.043966   \n",
              "4  7 days  0.201771  0.449189  0.376054  0.045599  0.043715  0.045392   \n",
              "\n",
              "   coverage  \n",
              "0  0.775824  \n",
              "1  0.714286  \n",
              "2  0.680952  \n",
              "3  0.702381  \n",
              "4  0.657143  "
            ]
          },
          "execution_count": 355,
          "metadata": {},
          "output_type": "execute_result"
        }
      ],
      "source": [
        "evaluation_model = cross_validation(m, initial='730 days', period='180 days', horizon = '30 days')\n",
        "evaluation_metrix = performance_metrics(evaluation_model)\n",
        "evaluation_metrix.head(5)"
      ]
    }
  ],
  "metadata": {
    "colab": {
      "collapsed_sections": [],
      "name": "Time Series Forecasting with Prophet- Improving Performance.ipynb",
      "provenance": [],
      "toc_visible": true
    },
    "kernelspec": {
      "display_name": "Python 3",
      "name": "python3"
    },
    "language_info": {
      "name": "python"
    },
    "widgets": {
      "application/vnd.jupyter.widget-state+json": {
        "15261a49d26249ef96401462c4d8b61f": {
          "model_module": "@jupyter-widgets/base",
          "model_module_version": "1.2.0",
          "model_name": "LayoutModel",
          "state": {
            "_model_module": "@jupyter-widgets/base",
            "_model_module_version": "1.2.0",
            "_model_name": "LayoutModel",
            "_view_count": null,
            "_view_module": "@jupyter-widgets/base",
            "_view_module_version": "1.2.0",
            "_view_name": "LayoutView",
            "align_content": null,
            "align_items": null,
            "align_self": null,
            "border": null,
            "bottom": null,
            "display": null,
            "flex": null,
            "flex_flow": null,
            "grid_area": null,
            "grid_auto_columns": null,
            "grid_auto_flow": null,
            "grid_auto_rows": null,
            "grid_column": null,
            "grid_gap": null,
            "grid_row": null,
            "grid_template_areas": null,
            "grid_template_columns": null,
            "grid_template_rows": null,
            "height": null,
            "justify_content": null,
            "justify_items": null,
            "left": null,
            "margin": null,
            "max_height": null,
            "max_width": null,
            "min_height": null,
            "min_width": null,
            "object_fit": null,
            "object_position": null,
            "order": null,
            "overflow": null,
            "overflow_x": null,
            "overflow_y": null,
            "padding": null,
            "right": null,
            "top": null,
            "visibility": null,
            "width": null
          }
        },
        "29f12511855d4733a294c907647135ac": {
          "model_module": "@jupyter-widgets/controls",
          "model_module_version": "1.5.0",
          "model_name": "DescriptionStyleModel",
          "state": {
            "_model_module": "@jupyter-widgets/controls",
            "_model_module_version": "1.5.0",
            "_model_name": "DescriptionStyleModel",
            "_view_count": null,
            "_view_module": "@jupyter-widgets/base",
            "_view_module_version": "1.2.0",
            "_view_name": "StyleView",
            "description_width": ""
          }
        },
        "2eaddf36c94140ad8133f5f5288faa41": {
          "model_module": "@jupyter-widgets/base",
          "model_module_version": "1.2.0",
          "model_name": "LayoutModel",
          "state": {
            "_model_module": "@jupyter-widgets/base",
            "_model_module_version": "1.2.0",
            "_model_name": "LayoutModel",
            "_view_count": null,
            "_view_module": "@jupyter-widgets/base",
            "_view_module_version": "1.2.0",
            "_view_name": "LayoutView",
            "align_content": null,
            "align_items": null,
            "align_self": null,
            "border": null,
            "bottom": null,
            "display": null,
            "flex": null,
            "flex_flow": null,
            "grid_area": null,
            "grid_auto_columns": null,
            "grid_auto_flow": null,
            "grid_auto_rows": null,
            "grid_column": null,
            "grid_gap": null,
            "grid_row": null,
            "grid_template_areas": null,
            "grid_template_columns": null,
            "grid_template_rows": null,
            "height": null,
            "justify_content": null,
            "justify_items": null,
            "left": null,
            "margin": null,
            "max_height": null,
            "max_width": null,
            "min_height": null,
            "min_width": null,
            "object_fit": null,
            "object_position": null,
            "order": null,
            "overflow": null,
            "overflow_x": null,
            "overflow_y": null,
            "padding": null,
            "right": null,
            "top": null,
            "visibility": null,
            "width": null
          }
        },
        "3a810f49979c4ecd8c7586c5c102d279": {
          "model_module": "@jupyter-widgets/base",
          "model_module_version": "1.2.0",
          "model_name": "LayoutModel",
          "state": {
            "_model_module": "@jupyter-widgets/base",
            "_model_module_version": "1.2.0",
            "_model_name": "LayoutModel",
            "_view_count": null,
            "_view_module": "@jupyter-widgets/base",
            "_view_module_version": "1.2.0",
            "_view_name": "LayoutView",
            "align_content": null,
            "align_items": null,
            "align_self": null,
            "border": null,
            "bottom": null,
            "display": null,
            "flex": null,
            "flex_flow": null,
            "grid_area": null,
            "grid_auto_columns": null,
            "grid_auto_flow": null,
            "grid_auto_rows": null,
            "grid_column": null,
            "grid_gap": null,
            "grid_row": null,
            "grid_template_areas": null,
            "grid_template_columns": null,
            "grid_template_rows": null,
            "height": null,
            "justify_content": null,
            "justify_items": null,
            "left": null,
            "margin": null,
            "max_height": null,
            "max_width": null,
            "min_height": null,
            "min_width": null,
            "object_fit": null,
            "object_position": null,
            "order": null,
            "overflow": null,
            "overflow_x": null,
            "overflow_y": null,
            "padding": null,
            "right": null,
            "top": null,
            "visibility": null,
            "width": null
          }
        },
        "3d8ae742a9304ab2b0203668be7ae7b0": {
          "model_module": "@jupyter-widgets/base",
          "model_module_version": "1.2.0",
          "model_name": "LayoutModel",
          "state": {
            "_model_module": "@jupyter-widgets/base",
            "_model_module_version": "1.2.0",
            "_model_name": "LayoutModel",
            "_view_count": null,
            "_view_module": "@jupyter-widgets/base",
            "_view_module_version": "1.2.0",
            "_view_name": "LayoutView",
            "align_content": null,
            "align_items": null,
            "align_self": null,
            "border": null,
            "bottom": null,
            "display": null,
            "flex": null,
            "flex_flow": null,
            "grid_area": null,
            "grid_auto_columns": null,
            "grid_auto_flow": null,
            "grid_auto_rows": null,
            "grid_column": null,
            "grid_gap": null,
            "grid_row": null,
            "grid_template_areas": null,
            "grid_template_columns": null,
            "grid_template_rows": null,
            "height": null,
            "justify_content": null,
            "justify_items": null,
            "left": null,
            "margin": null,
            "max_height": null,
            "max_width": null,
            "min_height": null,
            "min_width": null,
            "object_fit": null,
            "object_position": null,
            "order": null,
            "overflow": null,
            "overflow_x": null,
            "overflow_y": null,
            "padding": null,
            "right": null,
            "top": null,
            "visibility": null,
            "width": null
          }
        },
        "44fb155b97aa4349b3762e97088a7caf": {
          "model_module": "@jupyter-widgets/base",
          "model_module_version": "1.2.0",
          "model_name": "LayoutModel",
          "state": {
            "_model_module": "@jupyter-widgets/base",
            "_model_module_version": "1.2.0",
            "_model_name": "LayoutModel",
            "_view_count": null,
            "_view_module": "@jupyter-widgets/base",
            "_view_module_version": "1.2.0",
            "_view_name": "LayoutView",
            "align_content": null,
            "align_items": null,
            "align_self": null,
            "border": null,
            "bottom": null,
            "display": null,
            "flex": null,
            "flex_flow": null,
            "grid_area": null,
            "grid_auto_columns": null,
            "grid_auto_flow": null,
            "grid_auto_rows": null,
            "grid_column": null,
            "grid_gap": null,
            "grid_row": null,
            "grid_template_areas": null,
            "grid_template_columns": null,
            "grid_template_rows": null,
            "height": null,
            "justify_content": null,
            "justify_items": null,
            "left": null,
            "margin": null,
            "max_height": null,
            "max_width": null,
            "min_height": null,
            "min_width": null,
            "object_fit": null,
            "object_position": null,
            "order": null,
            "overflow": null,
            "overflow_x": null,
            "overflow_y": null,
            "padding": null,
            "right": null,
            "top": null,
            "visibility": null,
            "width": null
          }
        },
        "50e1ce078b9440e7b476efd27a093a9d": {
          "model_module": "@jupyter-widgets/controls",
          "model_module_version": "1.5.0",
          "model_name": "ProgressStyleModel",
          "state": {
            "_model_module": "@jupyter-widgets/controls",
            "_model_module_version": "1.5.0",
            "_model_name": "ProgressStyleModel",
            "_view_count": null,
            "_view_module": "@jupyter-widgets/base",
            "_view_module_version": "1.2.0",
            "_view_name": "StyleView",
            "bar_color": null,
            "description_width": ""
          }
        },
        "51052aaa611640509227c5e60c0b7f06": {
          "model_module": "@jupyter-widgets/controls",
          "model_module_version": "1.5.0",
          "model_name": "HBoxModel",
          "state": {
            "_dom_classes": [],
            "_model_module": "@jupyter-widgets/controls",
            "_model_module_version": "1.5.0",
            "_model_name": "HBoxModel",
            "_view_count": null,
            "_view_module": "@jupyter-widgets/controls",
            "_view_module_version": "1.5.0",
            "_view_name": "HBoxView",
            "box_style": "",
            "children": [
              "IPY_MODEL_f9b148dd0e9b4f54aa9d923278e2d202",
              "IPY_MODEL_d7e9b9886631445ab8e51d050a1a30c0",
              "IPY_MODEL_cad197a5f15e404c90b9a3fc9952664d"
            ],
            "layout": "IPY_MODEL_2eaddf36c94140ad8133f5f5288faa41"
          }
        },
        "5b6934841bf143be9b12b826ee8bb3cd": {
          "model_module": "@jupyter-widgets/base",
          "model_module_version": "1.2.0",
          "model_name": "LayoutModel",
          "state": {
            "_model_module": "@jupyter-widgets/base",
            "_model_module_version": "1.2.0",
            "_model_name": "LayoutModel",
            "_view_count": null,
            "_view_module": "@jupyter-widgets/base",
            "_view_module_version": "1.2.0",
            "_view_name": "LayoutView",
            "align_content": null,
            "align_items": null,
            "align_self": null,
            "border": null,
            "bottom": null,
            "display": null,
            "flex": null,
            "flex_flow": null,
            "grid_area": null,
            "grid_auto_columns": null,
            "grid_auto_flow": null,
            "grid_auto_rows": null,
            "grid_column": null,
            "grid_gap": null,
            "grid_row": null,
            "grid_template_areas": null,
            "grid_template_columns": null,
            "grid_template_rows": null,
            "height": null,
            "justify_content": null,
            "justify_items": null,
            "left": null,
            "margin": null,
            "max_height": null,
            "max_width": null,
            "min_height": null,
            "min_width": null,
            "object_fit": null,
            "object_position": null,
            "order": null,
            "overflow": null,
            "overflow_x": null,
            "overflow_y": null,
            "padding": null,
            "right": null,
            "top": null,
            "visibility": null,
            "width": null
          }
        },
        "5d450b55be3244f48b08a16e4adb94af": {
          "model_module": "@jupyter-widgets/controls",
          "model_module_version": "1.5.0",
          "model_name": "FloatProgressModel",
          "state": {
            "_dom_classes": [],
            "_model_module": "@jupyter-widgets/controls",
            "_model_module_version": "1.5.0",
            "_model_name": "FloatProgressModel",
            "_view_count": null,
            "_view_module": "@jupyter-widgets/controls",
            "_view_module_version": "1.5.0",
            "_view_name": "ProgressView",
            "bar_style": "success",
            "description": "",
            "description_tooltip": null,
            "layout": "IPY_MODEL_44fb155b97aa4349b3762e97088a7caf",
            "max": 13,
            "min": 0,
            "orientation": "horizontal",
            "style": "IPY_MODEL_50e1ce078b9440e7b476efd27a093a9d",
            "value": 13
          }
        },
        "676338c31daf404ea5fd502dbeb9de2f": {
          "model_module": "@jupyter-widgets/controls",
          "model_module_version": "1.5.0",
          "model_name": "DescriptionStyleModel",
          "state": {
            "_model_module": "@jupyter-widgets/controls",
            "_model_module_version": "1.5.0",
            "_model_name": "DescriptionStyleModel",
            "_view_count": null,
            "_view_module": "@jupyter-widgets/base",
            "_view_module_version": "1.2.0",
            "_view_name": "StyleView",
            "description_width": ""
          }
        },
        "6c1f34c54d0946aa83a86bbde3e56406": {
          "model_module": "@jupyter-widgets/controls",
          "model_module_version": "1.5.0",
          "model_name": "DescriptionStyleModel",
          "state": {
            "_model_module": "@jupyter-widgets/controls",
            "_model_module_version": "1.5.0",
            "_model_name": "DescriptionStyleModel",
            "_view_count": null,
            "_view_module": "@jupyter-widgets/base",
            "_view_module_version": "1.2.0",
            "_view_name": "StyleView",
            "description_width": ""
          }
        },
        "6cc835fcb55348e5aacf197d5e225796": {
          "model_module": "@jupyter-widgets/base",
          "model_module_version": "1.2.0",
          "model_name": "LayoutModel",
          "state": {
            "_model_module": "@jupyter-widgets/base",
            "_model_module_version": "1.2.0",
            "_model_name": "LayoutModel",
            "_view_count": null,
            "_view_module": "@jupyter-widgets/base",
            "_view_module_version": "1.2.0",
            "_view_name": "LayoutView",
            "align_content": null,
            "align_items": null,
            "align_self": null,
            "border": null,
            "bottom": null,
            "display": null,
            "flex": null,
            "flex_flow": null,
            "grid_area": null,
            "grid_auto_columns": null,
            "grid_auto_flow": null,
            "grid_auto_rows": null,
            "grid_column": null,
            "grid_gap": null,
            "grid_row": null,
            "grid_template_areas": null,
            "grid_template_columns": null,
            "grid_template_rows": null,
            "height": null,
            "justify_content": null,
            "justify_items": null,
            "left": null,
            "margin": null,
            "max_height": null,
            "max_width": null,
            "min_height": null,
            "min_width": null,
            "object_fit": null,
            "object_position": null,
            "order": null,
            "overflow": null,
            "overflow_x": null,
            "overflow_y": null,
            "padding": null,
            "right": null,
            "top": null,
            "visibility": null,
            "width": null
          }
        },
        "6dcf8dafc0fe467d9540b9d9896d667b": {
          "model_module": "@jupyter-widgets/controls",
          "model_module_version": "1.5.0",
          "model_name": "ProgressStyleModel",
          "state": {
            "_model_module": "@jupyter-widgets/controls",
            "_model_module_version": "1.5.0",
            "_model_name": "ProgressStyleModel",
            "_view_count": null,
            "_view_module": "@jupyter-widgets/base",
            "_view_module_version": "1.2.0",
            "_view_name": "StyleView",
            "bar_color": null,
            "description_width": ""
          }
        },
        "6ee485827552493ba4535b67b4ed938b": {
          "model_module": "@jupyter-widgets/controls",
          "model_module_version": "1.5.0",
          "model_name": "FloatProgressModel",
          "state": {
            "_dom_classes": [],
            "_model_module": "@jupyter-widgets/controls",
            "_model_module_version": "1.5.0",
            "_model_name": "FloatProgressModel",
            "_view_count": null,
            "_view_module": "@jupyter-widgets/controls",
            "_view_module_version": "1.5.0",
            "_view_name": "ProgressView",
            "bar_style": "success",
            "description": "",
            "description_tooltip": null,
            "layout": "IPY_MODEL_3d8ae742a9304ab2b0203668be7ae7b0",
            "max": 13,
            "min": 0,
            "orientation": "horizontal",
            "style": "IPY_MODEL_6dcf8dafc0fe467d9540b9d9896d667b",
            "value": 13
          }
        },
        "752d75fb7d964671ae66a55d64e75607": {
          "model_module": "@jupyter-widgets/controls",
          "model_module_version": "1.5.0",
          "model_name": "HTMLModel",
          "state": {
            "_dom_classes": [],
            "_model_module": "@jupyter-widgets/controls",
            "_model_module_version": "1.5.0",
            "_model_name": "HTMLModel",
            "_view_count": null,
            "_view_module": "@jupyter-widgets/controls",
            "_view_module_version": "1.5.0",
            "_view_name": "HTMLView",
            "description": "",
            "description_tooltip": null,
            "layout": "IPY_MODEL_ab9bad72d61f4a76922bc3c489f535f0",
            "placeholder": "​",
            "style": "IPY_MODEL_8f79f0e230924c30a0a379366b5703ec",
            "value": "100%"
          }
        },
        "82c3e330e5f244e3a13d0bf258ee96ef": {
          "model_module": "@jupyter-widgets/controls",
          "model_module_version": "1.5.0",
          "model_name": "HTMLModel",
          "state": {
            "_dom_classes": [],
            "_model_module": "@jupyter-widgets/controls",
            "_model_module_version": "1.5.0",
            "_model_name": "HTMLModel",
            "_view_count": null,
            "_view_module": "@jupyter-widgets/controls",
            "_view_module_version": "1.5.0",
            "_view_name": "HTMLView",
            "description": "",
            "description_tooltip": null,
            "layout": "IPY_MODEL_b3214522cbb1439786f55d73711dcce6",
            "placeholder": "​",
            "style": "IPY_MODEL_29f12511855d4733a294c907647135ac",
            "value": " 13/13 [00:25&lt;00:00,  2.13s/it]"
          }
        },
        "8bec5219a9e746cbb753f67bf29f4cff": {
          "model_module": "@jupyter-widgets/controls",
          "model_module_version": "1.5.0",
          "model_name": "DescriptionStyleModel",
          "state": {
            "_model_module": "@jupyter-widgets/controls",
            "_model_module_version": "1.5.0",
            "_model_name": "DescriptionStyleModel",
            "_view_count": null,
            "_view_module": "@jupyter-widgets/base",
            "_view_module_version": "1.2.0",
            "_view_name": "StyleView",
            "description_width": ""
          }
        },
        "8f79f0e230924c30a0a379366b5703ec": {
          "model_module": "@jupyter-widgets/controls",
          "model_module_version": "1.5.0",
          "model_name": "DescriptionStyleModel",
          "state": {
            "_model_module": "@jupyter-widgets/controls",
            "_model_module_version": "1.5.0",
            "_model_name": "DescriptionStyleModel",
            "_view_count": null,
            "_view_module": "@jupyter-widgets/base",
            "_view_module_version": "1.2.0",
            "_view_name": "StyleView",
            "description_width": ""
          }
        },
        "91a83cb6e5bb44fa8d6bf58cc4d4a68a": {
          "model_module": "@jupyter-widgets/base",
          "model_module_version": "1.2.0",
          "model_name": "LayoutModel",
          "state": {
            "_model_module": "@jupyter-widgets/base",
            "_model_module_version": "1.2.0",
            "_model_name": "LayoutModel",
            "_view_count": null,
            "_view_module": "@jupyter-widgets/base",
            "_view_module_version": "1.2.0",
            "_view_name": "LayoutView",
            "align_content": null,
            "align_items": null,
            "align_self": null,
            "border": null,
            "bottom": null,
            "display": null,
            "flex": null,
            "flex_flow": null,
            "grid_area": null,
            "grid_auto_columns": null,
            "grid_auto_flow": null,
            "grid_auto_rows": null,
            "grid_column": null,
            "grid_gap": null,
            "grid_row": null,
            "grid_template_areas": null,
            "grid_template_columns": null,
            "grid_template_rows": null,
            "height": null,
            "justify_content": null,
            "justify_items": null,
            "left": null,
            "margin": null,
            "max_height": null,
            "max_width": null,
            "min_height": null,
            "min_width": null,
            "object_fit": null,
            "object_position": null,
            "order": null,
            "overflow": null,
            "overflow_x": null,
            "overflow_y": null,
            "padding": null,
            "right": null,
            "top": null,
            "visibility": null,
            "width": null
          }
        },
        "93207ed8cedd483689f5450c0568cb45": {
          "model_module": "@jupyter-widgets/controls",
          "model_module_version": "1.5.0",
          "model_name": "DescriptionStyleModel",
          "state": {
            "_model_module": "@jupyter-widgets/controls",
            "_model_module_version": "1.5.0",
            "_model_name": "DescriptionStyleModel",
            "_view_count": null,
            "_view_module": "@jupyter-widgets/base",
            "_view_module_version": "1.2.0",
            "_view_name": "StyleView",
            "description_width": ""
          }
        },
        "95a84513c6884ff0bb7ecf5db89b2a93": {
          "model_module": "@jupyter-widgets/controls",
          "model_module_version": "1.5.0",
          "model_name": "HBoxModel",
          "state": {
            "_dom_classes": [],
            "_model_module": "@jupyter-widgets/controls",
            "_model_module_version": "1.5.0",
            "_model_name": "HBoxModel",
            "_view_count": null,
            "_view_module": "@jupyter-widgets/controls",
            "_view_module_version": "1.5.0",
            "_view_name": "HBoxView",
            "box_style": "",
            "children": [
              "IPY_MODEL_e2e1c5caa120448e9c3ff2362343f42f",
              "IPY_MODEL_5d450b55be3244f48b08a16e4adb94af",
              "IPY_MODEL_82c3e330e5f244e3a13d0bf258ee96ef"
            ],
            "layout": "IPY_MODEL_3a810f49979c4ecd8c7586c5c102d279"
          }
        },
        "ab9bad72d61f4a76922bc3c489f535f0": {
          "model_module": "@jupyter-widgets/base",
          "model_module_version": "1.2.0",
          "model_name": "LayoutModel",
          "state": {
            "_model_module": "@jupyter-widgets/base",
            "_model_module_version": "1.2.0",
            "_model_name": "LayoutModel",
            "_view_count": null,
            "_view_module": "@jupyter-widgets/base",
            "_view_module_version": "1.2.0",
            "_view_name": "LayoutView",
            "align_content": null,
            "align_items": null,
            "align_self": null,
            "border": null,
            "bottom": null,
            "display": null,
            "flex": null,
            "flex_flow": null,
            "grid_area": null,
            "grid_auto_columns": null,
            "grid_auto_flow": null,
            "grid_auto_rows": null,
            "grid_column": null,
            "grid_gap": null,
            "grid_row": null,
            "grid_template_areas": null,
            "grid_template_columns": null,
            "grid_template_rows": null,
            "height": null,
            "justify_content": null,
            "justify_items": null,
            "left": null,
            "margin": null,
            "max_height": null,
            "max_width": null,
            "min_height": null,
            "min_width": null,
            "object_fit": null,
            "object_position": null,
            "order": null,
            "overflow": null,
            "overflow_x": null,
            "overflow_y": null,
            "padding": null,
            "right": null,
            "top": null,
            "visibility": null,
            "width": null
          }
        },
        "aca451c2038940cba911914408c2e0b6": {
          "model_module": "@jupyter-widgets/controls",
          "model_module_version": "1.5.0",
          "model_name": "ProgressStyleModel",
          "state": {
            "_model_module": "@jupyter-widgets/controls",
            "_model_module_version": "1.5.0",
            "_model_name": "ProgressStyleModel",
            "_view_count": null,
            "_view_module": "@jupyter-widgets/base",
            "_view_module_version": "1.2.0",
            "_view_name": "StyleView",
            "bar_color": null,
            "description_width": ""
          }
        },
        "b1ce42c2d8354ae0aa2e3d50897892fc": {
          "model_module": "@jupyter-widgets/base",
          "model_module_version": "1.2.0",
          "model_name": "LayoutModel",
          "state": {
            "_model_module": "@jupyter-widgets/base",
            "_model_module_version": "1.2.0",
            "_model_name": "LayoutModel",
            "_view_count": null,
            "_view_module": "@jupyter-widgets/base",
            "_view_module_version": "1.2.0",
            "_view_name": "LayoutView",
            "align_content": null,
            "align_items": null,
            "align_self": null,
            "border": null,
            "bottom": null,
            "display": null,
            "flex": null,
            "flex_flow": null,
            "grid_area": null,
            "grid_auto_columns": null,
            "grid_auto_flow": null,
            "grid_auto_rows": null,
            "grid_column": null,
            "grid_gap": null,
            "grid_row": null,
            "grid_template_areas": null,
            "grid_template_columns": null,
            "grid_template_rows": null,
            "height": null,
            "justify_content": null,
            "justify_items": null,
            "left": null,
            "margin": null,
            "max_height": null,
            "max_width": null,
            "min_height": null,
            "min_width": null,
            "object_fit": null,
            "object_position": null,
            "order": null,
            "overflow": null,
            "overflow_x": null,
            "overflow_y": null,
            "padding": null,
            "right": null,
            "top": null,
            "visibility": null,
            "width": null
          }
        },
        "b3214522cbb1439786f55d73711dcce6": {
          "model_module": "@jupyter-widgets/base",
          "model_module_version": "1.2.0",
          "model_name": "LayoutModel",
          "state": {
            "_model_module": "@jupyter-widgets/base",
            "_model_module_version": "1.2.0",
            "_model_name": "LayoutModel",
            "_view_count": null,
            "_view_module": "@jupyter-widgets/base",
            "_view_module_version": "1.2.0",
            "_view_name": "LayoutView",
            "align_content": null,
            "align_items": null,
            "align_self": null,
            "border": null,
            "bottom": null,
            "display": null,
            "flex": null,
            "flex_flow": null,
            "grid_area": null,
            "grid_auto_columns": null,
            "grid_auto_flow": null,
            "grid_auto_rows": null,
            "grid_column": null,
            "grid_gap": null,
            "grid_row": null,
            "grid_template_areas": null,
            "grid_template_columns": null,
            "grid_template_rows": null,
            "height": null,
            "justify_content": null,
            "justify_items": null,
            "left": null,
            "margin": null,
            "max_height": null,
            "max_width": null,
            "min_height": null,
            "min_width": null,
            "object_fit": null,
            "object_position": null,
            "order": null,
            "overflow": null,
            "overflow_x": null,
            "overflow_y": null,
            "padding": null,
            "right": null,
            "top": null,
            "visibility": null,
            "width": null
          }
        },
        "b933259acbd6426a984ae8acba51abf9": {
          "model_module": "@jupyter-widgets/controls",
          "model_module_version": "1.5.0",
          "model_name": "HBoxModel",
          "state": {
            "_dom_classes": [],
            "_model_module": "@jupyter-widgets/controls",
            "_model_module_version": "1.5.0",
            "_model_name": "HBoxModel",
            "_view_count": null,
            "_view_module": "@jupyter-widgets/controls",
            "_view_module_version": "1.5.0",
            "_view_name": "HBoxView",
            "box_style": "",
            "children": [
              "IPY_MODEL_752d75fb7d964671ae66a55d64e75607",
              "IPY_MODEL_6ee485827552493ba4535b67b4ed938b",
              "IPY_MODEL_d4e9dc00af2a4b2d8f89c23036e41d4e"
            ],
            "layout": "IPY_MODEL_5b6934841bf143be9b12b826ee8bb3cd"
          }
        },
        "ba6fe642a4b64d93b1619b0fdb3c0408": {
          "model_module": "@jupyter-widgets/base",
          "model_module_version": "1.2.0",
          "model_name": "LayoutModel",
          "state": {
            "_model_module": "@jupyter-widgets/base",
            "_model_module_version": "1.2.0",
            "_model_name": "LayoutModel",
            "_view_count": null,
            "_view_module": "@jupyter-widgets/base",
            "_view_module_version": "1.2.0",
            "_view_name": "LayoutView",
            "align_content": null,
            "align_items": null,
            "align_self": null,
            "border": null,
            "bottom": null,
            "display": null,
            "flex": null,
            "flex_flow": null,
            "grid_area": null,
            "grid_auto_columns": null,
            "grid_auto_flow": null,
            "grid_auto_rows": null,
            "grid_column": null,
            "grid_gap": null,
            "grid_row": null,
            "grid_template_areas": null,
            "grid_template_columns": null,
            "grid_template_rows": null,
            "height": null,
            "justify_content": null,
            "justify_items": null,
            "left": null,
            "margin": null,
            "max_height": null,
            "max_width": null,
            "min_height": null,
            "min_width": null,
            "object_fit": null,
            "object_position": null,
            "order": null,
            "overflow": null,
            "overflow_x": null,
            "overflow_y": null,
            "padding": null,
            "right": null,
            "top": null,
            "visibility": null,
            "width": null
          }
        },
        "cad197a5f15e404c90b9a3fc9952664d": {
          "model_module": "@jupyter-widgets/controls",
          "model_module_version": "1.5.0",
          "model_name": "HTMLModel",
          "state": {
            "_dom_classes": [],
            "_model_module": "@jupyter-widgets/controls",
            "_model_module_version": "1.5.0",
            "_model_name": "HTMLModel",
            "_view_count": null,
            "_view_module": "@jupyter-widgets/controls",
            "_view_module_version": "1.5.0",
            "_view_name": "HTMLView",
            "description": "",
            "description_tooltip": null,
            "layout": "IPY_MODEL_15261a49d26249ef96401462c4d8b61f",
            "placeholder": "​",
            "style": "IPY_MODEL_676338c31daf404ea5fd502dbeb9de2f",
            "value": " 13/13 [00:24&lt;00:00,  2.08s/it]"
          }
        },
        "d4e9dc00af2a4b2d8f89c23036e41d4e": {
          "model_module": "@jupyter-widgets/controls",
          "model_module_version": "1.5.0",
          "model_name": "HTMLModel",
          "state": {
            "_dom_classes": [],
            "_model_module": "@jupyter-widgets/controls",
            "_model_module_version": "1.5.0",
            "_model_name": "HTMLModel",
            "_view_count": null,
            "_view_module": "@jupyter-widgets/controls",
            "_view_module_version": "1.5.0",
            "_view_name": "HTMLView",
            "description": "",
            "description_tooltip": null,
            "layout": "IPY_MODEL_b1ce42c2d8354ae0aa2e3d50897892fc",
            "placeholder": "​",
            "style": "IPY_MODEL_93207ed8cedd483689f5450c0568cb45",
            "value": " 13/13 [00:25&lt;00:00,  2.21s/it]"
          }
        },
        "d7e9b9886631445ab8e51d050a1a30c0": {
          "model_module": "@jupyter-widgets/controls",
          "model_module_version": "1.5.0",
          "model_name": "FloatProgressModel",
          "state": {
            "_dom_classes": [],
            "_model_module": "@jupyter-widgets/controls",
            "_model_module_version": "1.5.0",
            "_model_name": "FloatProgressModel",
            "_view_count": null,
            "_view_module": "@jupyter-widgets/controls",
            "_view_module_version": "1.5.0",
            "_view_name": "ProgressView",
            "bar_style": "success",
            "description": "",
            "description_tooltip": null,
            "layout": "IPY_MODEL_6cc835fcb55348e5aacf197d5e225796",
            "max": 13,
            "min": 0,
            "orientation": "horizontal",
            "style": "IPY_MODEL_aca451c2038940cba911914408c2e0b6",
            "value": 13
          }
        },
        "e2e1c5caa120448e9c3ff2362343f42f": {
          "model_module": "@jupyter-widgets/controls",
          "model_module_version": "1.5.0",
          "model_name": "HTMLModel",
          "state": {
            "_dom_classes": [],
            "_model_module": "@jupyter-widgets/controls",
            "_model_module_version": "1.5.0",
            "_model_name": "HTMLModel",
            "_view_count": null,
            "_view_module": "@jupyter-widgets/controls",
            "_view_module_version": "1.5.0",
            "_view_name": "HTMLView",
            "description": "",
            "description_tooltip": null,
            "layout": "IPY_MODEL_ba6fe642a4b64d93b1619b0fdb3c0408",
            "placeholder": "​",
            "style": "IPY_MODEL_6c1f34c54d0946aa83a86bbde3e56406",
            "value": "100%"
          }
        },
        "f9b148dd0e9b4f54aa9d923278e2d202": {
          "model_module": "@jupyter-widgets/controls",
          "model_module_version": "1.5.0",
          "model_name": "HTMLModel",
          "state": {
            "_dom_classes": [],
            "_model_module": "@jupyter-widgets/controls",
            "_model_module_version": "1.5.0",
            "_model_name": "HTMLModel",
            "_view_count": null,
            "_view_module": "@jupyter-widgets/controls",
            "_view_module_version": "1.5.0",
            "_view_name": "HTMLView",
            "description": "",
            "description_tooltip": null,
            "layout": "IPY_MODEL_91a83cb6e5bb44fa8d6bf58cc4d4a68a",
            "placeholder": "​",
            "style": "IPY_MODEL_8bec5219a9e746cbb753f67bf29f4cff",
            "value": "100%"
          }
        }
      }
    }
  },
  "nbformat": 4,
  "nbformat_minor": 0
}
